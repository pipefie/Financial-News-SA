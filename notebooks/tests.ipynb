{
 "cells": [
  {
   "cell_type": "markdown",
   "metadata": {},
   "source": [
    "**Jupyter notebook for test of any type**"
   ]
  },
  {
   "cell_type": "code",
   "execution_count": 5,
   "metadata": {},
   "outputs": [
    {
     "name": "stdout",
     "output_type": "stream",
     "text": [
      "['/home/pipe/BigData/project/Financial-News-SA/notebooks', '/usr/lib/python312.zip', '/usr/lib/python3.12', '/usr/lib/python3.12/lib-dynload', '', '/home/pipe/venv/BigDataVenv/lib/python3.12/site-packages', '/home/pipe/BigData/project/Financial-News-SA/src', '/home/pipe/.cache/huggingface/modules', '/home/pipe/BigData/project/Financial-News-SA/src']\n"
     ]
    }
   ],
   "source": [
    "import sys\n",
    "import os\n",
    "\n",
    "# Get the absolute path of the project root\n",
    "project_root = os.path.abspath(\"..\")  # Adjust if necessary\n",
    "\n",
    "# Add the src directory to Python's path\n",
    "sys.path.append(os.path.join(project_root, \"src\"))\n",
    "\n",
    "print(sys.path)"
   ]
  },
  {
   "cell_type": "code",
   "execution_count": 8,
   "metadata": {},
   "outputs": [],
   "source": [
    "import pandas as pd\n",
    "from datasets import load_dataset\n",
    "import os\n",
    "import numpy as np\n",
    "import pyspark as ps\n",
    "from data import cloud_storage_utils as drive"
   ]
  },
  {
   "cell_type": "code",
   "execution_count": 7,
   "metadata": {},
   "outputs": [],
   "source": [
    "df = pd.read_csv(\"hf://datasets/Shadow-Blade/financialNews/financialNews.csv\")"
   ]
  },
  {
   "cell_type": "code",
   "execution_count": null,
   "metadata": {},
   "outputs": [],
   "source": [
    "os.makedirs('../data/raw/', exist_ok=True) \n",
    "df.to_csv('../data/raw/financialNews_shadow.csv')"
   ]
  },
  {
   "cell_type": "code",
   "execution_count": 8,
   "metadata": {},
   "outputs": [
    {
     "data": {
      "text/plain": [
       "{'datetime': 'Fri 24 Nov 2023, 12:00AM',\n",
       " 'title': 'OpenAI turmoil exposes threat to Microsoft’s investment',\n",
       " 'description': 'Microsoft chief executive Satya Nadella’s decision to throw his company’s lot in with OpenAI in 2019 has turned into one of the tech industry’s most successful partnerships, giving the software company a huge head-start in the booming market for generative artificial intelligence. For Microsoft, OpenAI’s language models have become a key ingredient in the company’s latest AI-infused services, while the AI company needs Microsoft’s cloud platform — and money — to support its giant AI models.',\n",
       " 'ticker': 'MSFT',\n",
       " 'company': 'Microsoft Corporation',\n",
       " 'sector': 'Technology',\n",
       " 'industry': 'Software—Infrastructure',\n",
       " 'change_pct': -0.5001626505810034}"
      ]
     },
     "execution_count": 8,
     "metadata": {},
     "output_type": "execute_result"
    }
   ],
   "source": [
    "ds[0]"
   ]
  },
  {
   "cell_type": "code",
   "execution_count": 11,
   "metadata": {},
   "outputs": [
    {
     "data": {
      "text/plain": [
       "pandas.core.frame.DataFrame"
      ]
     },
     "execution_count": 11,
     "metadata": {},
     "output_type": "execute_result"
    }
   ],
   "source": [
    "type(ds)\n",
    "type(df)"
   ]
  },
  {
   "cell_type": "code",
   "execution_count": null,
   "metadata": {},
   "outputs": [],
   "source": []
  }
 ],
 "metadata": {
  "kernelspec": {
   "display_name": "bigDatavenv",
   "language": "python",
   "name": "python3"
  },
  "language_info": {
   "codemirror_mode": {
    "name": "ipython",
    "version": 3
   },
   "file_extension": ".py",
   "mimetype": "text/x-python",
   "name": "python",
   "nbconvert_exporter": "python",
   "pygments_lexer": "ipython3",
   "version": "3.12.3"
  }
 },
 "nbformat": 4,
 "nbformat_minor": 2
}
