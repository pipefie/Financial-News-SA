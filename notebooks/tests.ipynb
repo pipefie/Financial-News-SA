{
 "cells": [
  {
   "cell_type": "markdown",
   "metadata": {},
   "source": [
    "**Jupyter notebook for test of any type**"
   ]
  },
  {
   "cell_type": "code",
   "execution_count": 1,
   "metadata": {},
   "outputs": [],
   "source": [
    "import sys\n",
    "import os\n",
    "import pandas as pd\n",
    "from datasets import load_dataset\n",
    "import os\n",
    "import numpy as np\n",
    "import pyspark as ps\n",
    "from pyspark.sql import SparkSession\n",
    "\n",
    "\n",
    "# Get the absolute path of the project root\n",
    "project_root = os.path.abspath(\"..\")  # Adjust if necessary\n",
    "\n",
    "# Add the src directory to Python's path\n",
    "sys.path.append(os.path.join(project_root, \"src\"))\n",
    "\n",
    "if project_root not in sys.path:\n",
    "    sys.path.append(project_root)\n"
   ]
  },
  {
   "cell_type": "code",
   "execution_count": 2,
   "metadata": {},
   "outputs": [],
   "source": [
    "from data import s3_utils as s3U"
   ]
  },
  {
   "cell_type": "code",
   "execution_count": 7,
   "metadata": {},
   "outputs": [],
   "source": [
    "df = pd.read_csv(\"hf://datasets/Shadow-Blade/financialNews/financialNews.csv\")"
   ]
  },
  {
   "cell_type": "code",
   "execution_count": null,
   "metadata": {},
   "outputs": [],
   "source": [
    "os.makedirs('../data/raw/', exist_ok=True) \n",
    "df.to_csv('../data/raw/financialNews_shadow.csv')"
   ]
  },
  {
   "cell_type": "code",
   "execution_count": 3,
   "metadata": {},
   "outputs": [],
   "source": [
    "bucket= \"financialdata-sa\"\n",
    "news_external = \"RawNews/All_external.csv\""
   ]
  },
  {
   "cell_type": "code",
   "execution_count": 4,
   "metadata": {},
   "outputs": [
    {
     "name": "stderr",
     "output_type": "stream",
     "text": [
      "your 131072x1 screen size is bogus. expect trouble\n",
      "25/03/14 19:16:39 WARN Utils: Your hostname, Andres-F resolves to a loopback address: 127.0.1.1; using 10.255.255.254 instead (on interface lo)\n",
      "25/03/14 19:16:39 WARN Utils: Set SPARK_LOCAL_IP if you need to bind to another address\n",
      "25/03/14 19:16:39 WARN NativeCodeLoader: Unable to load native-hadoop library for your platform... using builtin-java classes where applicable\n",
      "Setting default log level to \"WARN\".\n",
      "To adjust logging level use sc.setLogLevel(newLevel). For SparkR, use setLogLevel(newLevel).\n",
      "25/03/14 19:16:42 WARN MetricsConfig: Cannot locate configuration: tried hadoop-metrics2-s3a-file-system.properties,hadoop-metrics2.properties\n",
      "                                                                                \r"
     ]
    }
   ],
   "source": [
    "news1 = s3U.get_csv_as_spark(bucket_name=bucket, s3_key=news_external)"
   ]
  },
  {
   "cell_type": "code",
   "execution_count": null,
   "metadata": {},
   "outputs": [
    {
     "name": "stdout",
     "output_type": "stream",
     "text": [
      "+--------------------+--------------------+------------+--------------------+-----------------+------+-------+-----------+------------+----------------+---------------+\n",
      "|                Date|       Article_title|Stock_symbol|                 Url|        Publisher|Author|Article|Lsa_summary|Luhn_summary|Textrank_summary|Lexrank_summary|\n",
      "+--------------------+--------------------+------------+--------------------+-----------------+------+-------+-----------+------------+----------------+---------------+\n",
      "|2020-06-05 06:30:...|Stocks That Hit 5...|           A|https://www.benzi...|Benzinga Insights|  NULL|   NULL|       NULL|        NULL|            NULL|           NULL|\n",
      "|2020-06-03 06:45:...|Stocks That Hit 5...|           A|https://www.benzi...|Benzinga Insights|  NULL|   NULL|       NULL|        NULL|            NULL|           NULL|\n",
      "|2020-05-26 00:30:...|71 Biggest Movers...|           A|https://www.benzi...|       Lisa Levin|  NULL|   NULL|       NULL|        NULL|            NULL|           NULL|\n",
      "|2020-05-22 08:45:...|46 Stocks Moving ...|           A|https://www.benzi...|       Lisa Levin|  NULL|   NULL|       NULL|        NULL|            NULL|           NULL|\n",
      "|2020-05-22 07:38:...|B of A Securities...|           A|https://www.benzi...|       Vick Meyer|  NULL|   NULL|       NULL|        NULL|            NULL|           NULL|\n",
      "+--------------------+--------------------+------------+--------------------+-----------------+------+-------+-----------+------------+----------------+---------------+\n",
      "only showing top 5 rows\n",
      "\n"
     ]
    },
    {
     "name": "stderr",
     "output_type": "stream",
     "text": [
      "                                                                                \r"
     ]
    },
    {
     "name": "stderr",
     "output_type": "stream",
     "text": [
      "[Stage 2:====>                                                     (3 + 2) / 43]\r"
     ]
    }
   ],
   "source": [
    "news1.show(5)"
   ]
  },
  {
   "cell_type": "code",
   "execution_count": 3,
   "metadata": {},
   "outputs": [
    {
     "name": "stderr",
     "output_type": "stream",
     "text": [
      "your 131072x1 screen size is bogus. expect trouble\n",
      "25/03/18 14:02:21 WARN Utils: Your hostname, SSMRS3-048E9600 resolves to a loopback address: 127.0.1.1; using 10.255.255.254 instead (on interface lo)\n",
      "25/03/18 14:02:21 WARN Utils: Set SPARK_LOCAL_IP if you need to bind to another address\n",
      "Setting default log level to \"WARN\".\n",
      "To adjust logging level use sc.setLogLevel(newLevel). For SparkR, use setLogLevel(newLevel).\n",
      "25/03/18 14:02:21 WARN NativeCodeLoader: Unable to load native-hadoop library for your platform... using builtin-java classes where applicable\n",
      "                                                                                \r"
     ]
    }
   ],
   "source": [
    "spark = SparkSession.builder \\\n",
    "    .appName(\"ConvertCSVtoParquet\") \\\n",
    "    .getOrCreate()\n",
    "\n",
    "df_csv = spark.read \\\n",
    "    .option(\"header\", \"true\") \\\n",
    "    .option(\"inferSchema\", \"true\") \\\n",
    "    .csv(\"../data/raw/nasdaq_exteral_data.csv\")"
   ]
  },
  {
   "cell_type": "code",
   "execution_count": 4,
   "metadata": {},
   "outputs": [
    {
     "name": "stdout",
     "output_type": "stream",
     "text": [
      "root\n",
      " |-- Unnamed: 0: string (nullable = true)\n",
      " |-- Date: string (nullable = true)\n",
      " |-- Article_title: string (nullable = true)\n",
      " |-- Stock_symbol: string (nullable = true)\n",
      " |-- Url: string (nullable = true)\n",
      " |-- Publisher: string (nullable = true)\n",
      " |-- Author: string (nullable = true)\n",
      " |-- Article: string (nullable = true)\n",
      " |-- Lsa_summary: string (nullable = true)\n",
      " |-- Luhn_summary: string (nullable = true)\n",
      " |-- Textrank_summary: string (nullable = true)\n",
      " |-- Lexrank_summary: string (nullable = true)\n",
      "\n"
     ]
    }
   ],
   "source": [
    "df_csv.printSchema()"
   ]
  },
  {
   "cell_type": "code",
   "execution_count": 9,
   "metadata": {},
   "outputs": [
    {
     "name": "stdout",
     "output_type": "stream",
     "text": [
      "+--------------------+--------------------+--------------------+--------------------+--------------------+--------------------+--------------------+--------------------+--------------------+--------------------+--------------------+---------------+\n",
      "|          Unnamed: 0|                Date|       Article_title|        Stock_symbol|                 Url|           Publisher|              Author|             Article|         Lsa_summary|        Luhn_summary|    Textrank_summary|Lexrank_summary|\n",
      "+--------------------+--------------------+--------------------+--------------------+--------------------+--------------------+--------------------+--------------------+--------------------+--------------------+--------------------+---------------+\n",
      "|                 0.0|2023-12-16 23:00:...|Interesting A Put...|                   A|https://www.nasda...|                NULL|                NULL|Investors in Agil...|                NULL|                NULL|                NULL|           NULL|\n",
      "|The put contract ...| they are committ...| but will also co...| putting the cost...| that could repre...|                NULL|                NULL|                NULL|                NULL|                NULL|                NULL|           NULL|\n",
      "|Because the $125....| there is also th...| publishing a cha...| the premium woul...| or 5.45% annuali...|                NULL|                NULL|                NULL|                NULL|                NULL|                NULL|           NULL|\n",
      "|Below is a chart ...|                Inc.| and highlighting...|                NULL|                NULL|                NULL|                NULL|                NULL|                NULL|                NULL|                NULL|           NULL|\n",
      "|Turning to the ca...| the call contrac...| and then sell-to...|\"\" they are commi...| that would drive...| if any) of 13.75...| a lot of upside ...| which is why loo...|                Inc.| as well as study...| with the $150.00...|           NULL|\n",
      "|Considering the f...| there is also th...| in which case th...| Stock Options Ch...| the premium woul...| or 8.83% annualized| which we refer t...|                NULL|                NULL|                NULL|                NULL|           NULL|\n",
      "|The implied volat...| while the implie...|                NULL|                NULL|                NULL|                NULL|                NULL|                NULL|                NULL|                NULL|                NULL|           NULL|\n",
      "|           Meanwhile| we calculate the...| visit StockOptio...|                NULL|                NULL|                NULL|                NULL|                NULL|                NULL|                NULL|                NULL|           NULL|\n",
      "|Top YieldBoost Ca...|                NULL|                NULL|                NULL|                NULL|                NULL|                NULL|                NULL|                NULL|                NULL|                NULL|           NULL|\n",
      "|           Also see:|                NULL|                NULL|                NULL|                NULL|                NULL|                NULL|                NULL|                NULL|                NULL|                NULL|           NULL|\n",
      "| Canadian Stocks...|                NULL|                NULL|                NULL|                NULL|                NULL|                NULL|                NULL|                NULL|                NULL|                NULL|           NULL|\n",
      "| Funds Holding SNUG|                NULL|                NULL|                NULL|                NULL|                NULL|                NULL|                NULL|                NULL|                NULL|                NULL|           NULL|\n",
      "| CCE Insider Buying|                NULL|                NULL|                NULL|                NULL|                NULL|                NULL|                NULL|                NULL|                NULL|                NULL|           NULL|\n",
      "|The views and opi...|               Inc.\"|Because the $125....|The current analy...|Below is a chart ...|At Stock Options ...|                NULL|                NULL|                NULL|                NULL|                NULL|           NULL|\n",
      "|                 1.0|2023-12-12 00:00:...|Wolfe Research In...|                   A|https://www.nasda...|                NULL|                NULL|Fintel reports th...|                NULL|                NULL|                NULL|           NULL|\n",
      "|Analyst Price For...|                NULL|                NULL|                NULL|                NULL|                NULL|                NULL|                NULL|                NULL|                NULL|                NULL|           NULL|\n",
      "|   As of November 27|                2023| the average one-...|                NULL|                NULL|                NULL|                NULL|                NULL|                NULL|                NULL|                NULL|           NULL|\n",
      "|See our leaderboa...|                NULL|                NULL|                NULL|                NULL|                NULL|                NULL|                NULL|                NULL|                NULL|                NULL|           NULL|\n",
      "|The projected ann...|               130MM| an increase of 4...|                NULL|                NULL|                NULL|                NULL|                NULL|                NULL|                NULL|                NULL|           NULL|\n",
      "|Agilent Technolog...|                NULL|                NULL|                NULL|                NULL|                NULL|                NULL|                NULL|                NULL|                NULL|                NULL|           NULL|\n",
      "|      On November 15| 2023 the company...| 2024 will receiv...|    2024. Previously| the company paid...|                NULL|                NULL|                NULL|                NULL|                NULL|                NULL|           NULL|\n",
      "|At the current sh...| the stock's divi...|                NULL|                NULL|                NULL|                NULL|                NULL|                NULL|                NULL|                NULL|                NULL|           NULL|\n",
      "|Looking back five...| the average divi...| the lowest has b...| and the highest ...|                NULL|                NULL|                NULL|                NULL|                NULL|                NULL|                NULL|           NULL|\n",
      "|The current divid...|                NULL|                NULL|                NULL|                NULL|                NULL|                NULL|                NULL|                NULL|                NULL|                NULL|           NULL|\n",
      "|        Additionally| the company's di...| which typically ...| which translates...|                NULL|                NULL|                NULL|                NULL|                NULL|                NULL|                NULL|           NULL|\n",
      "|The company's 3-Y...| demonstrating th...|                NULL|                NULL|                NULL|                NULL|                NULL|                NULL|                NULL|                NULL|                NULL|           NULL|\n",
      "|What is the Fund ...|                NULL|                NULL|                NULL|                NULL|                NULL|                NULL|                NULL|                NULL|                NULL|                NULL|           NULL|\n",
      "|There are 1945 fu...| a decrease of 2....|        740K shares.|                NULL|                NULL|                NULL|                NULL|                NULL|                NULL|                NULL|                NULL|           NULL|\n",
      "|The put/call rati...| indicating a bea...|                NULL|                NULL|                NULL|                NULL|                NULL|                NULL|                NULL|                NULL|                NULL|           NULL|\n",
      "|What are Other Sh...|                NULL|                NULL|                NULL|                NULL|                NULL|                NULL|                NULL|                NULL|                NULL|                NULL|           NULL|\n",
      "|Massachusetts Fin...|076K shares repre...| the firm reporte...|         037K shares| representing an ...|                NULL|                NULL|                NULL|                NULL|                NULL|                NULL|           NULL|\n",
      "|Wellington Manage...|256K shares repre...| the firm reporte...|         736K shares| representing an ...|                NULL|                NULL|                NULL|                NULL|                NULL|                NULL|           NULL|\n",
      "|T. Rowe Price Inv...|122K shares repre...| the firm reporte...|         968K shares| representing an ...|                NULL|                NULL|                NULL|                NULL|                NULL|                NULL|           NULL|\n",
      "|VTSMX - Vanguard ...|113K shares repre...| the firm reporte...|         177K shares| representing a d...|                NULL|                NULL|                NULL|                NULL|                NULL|                NULL|           NULL|\n",
      "|Price T Rowe Asso...|386K shares repre...| the firm reporte...|         054K shares| representing a d...|                NULL|                NULL|                NULL|                NULL|                NULL|                NULL|           NULL|\n",
      "|Agilent Technolog...|                NULL|                NULL|                NULL|                NULL|                NULL|                NULL|                NULL|                NULL|                NULL|                NULL|           NULL|\n",
      "|(This description...|                NULL|                NULL|                NULL|                NULL|                NULL|                NULL|                NULL|                NULL|                NULL|                NULL|           NULL|\n",
      "|Agilent Technolog...|         diagnostics| and applied chem...| delivering insig...|            software|            services|           solutions| and people provi...|400 people worldw...|                NULL|                NULL|           NULL|\n",
      "|Fintel is one of ...|             traders|  financial advisors| and small hedge ...|                NULL|                NULL|                NULL|                NULL|                NULL|                NULL|                NULL|           NULL|\n",
      "|Our data covers t...| and includes fun...|     analyst reports| ownership data a...|   options sentiment|     insider trading|        options flow| unusual options ...| and much more. A...| our exclusive st...| backtested quant...|           NULL|\n",
      "| Click to Learn More|                NULL|                NULL|                NULL|                NULL|                NULL|                NULL|                NULL|                NULL|                NULL|                NULL|           NULL|\n",
      "|This story origin...|                NULL|                NULL|                NULL|                NULL|                NULL|                NULL|                NULL|                NULL|                NULL|                NULL|           NULL|\n",
      "|The views and opi...|               Inc.\"|Fintel reports th...|T. Rowe Price Inv...|Agilent Technolog...|The projected ann...|                NULL|                NULL|                NULL|                NULL|                NULL|           NULL|\n",
      "|                 2.0|2023-12-12 00:00:...|Agilent Technolog...|                   A|https://www.nasda...|                NULL|                NULL|In recent trading...|                NULL|                NULL|                NULL|           NULL|\n",
      "|There are 14 diff...|                Inc.| but the average ...| including one lo...|                NULL|                NULL|                NULL|                NULL|                NULL|                NULL|                NULL|           NULL|\n",
      "|But the whole rea...| putting together...| as opposed to wh...| investors in A h...| or has the valua...|               Inc.:|                NULL|                NULL|                NULL|                NULL|                NULL|           NULL|\n",
      "|RECENT A ANALYST ...|                NULL|                NULL|                NULL|                NULL|                NULL|                NULL|                NULL|                NULL|                NULL|                NULL|           NULL|\n",
      "|» Current 1 Month...|                NULL|                NULL|                NULL|                NULL|                NULL|                NULL|                NULL|                NULL|                NULL|                NULL|           NULL|\n",
      "|Strong buy rating...|                NULL|                NULL|                NULL|                NULL|                NULL|                NULL|                NULL|                NULL|                NULL|                NULL|           NULL|\n",
      "|Buy ratings: 0 0 0 0|                NULL|                NULL|                NULL|                NULL|                NULL|                NULL|                NULL|                NULL|                NULL|                NULL|           NULL|\n",
      "+--------------------+--------------------+--------------------+--------------------+--------------------+--------------------+--------------------+--------------------+--------------------+--------------------+--------------------+---------------+\n",
      "only showing top 50 rows\n",
      "\n"
     ]
    }
   ],
   "source": [
    "df_csv.show(50)"
   ]
  },
  {
   "cell_type": "code",
   "execution_count": 7,
   "metadata": {},
   "outputs": [
    {
     "name": "stderr",
     "output_type": "stream",
     "text": [
      "                                                                                \r"
     ]
    }
   ],
   "source": [
    "\n",
    "df_csv_5gb = spark.read \\\n",
    "    .option(\"header\", \"true\") \\\n",
    "    .option(\"inferSchema\", \"true\") \\\n",
    "    .csv(\"../data/raw/All_external.csv\")"
   ]
  },
  {
   "cell_type": "code",
   "execution_count": 10,
   "metadata": {},
   "outputs": [
    {
     "name": "stdout",
     "output_type": "stream",
     "text": [
      "+--------------------+--------------------+------------+--------------------+--------------------+------+-------+-----------+------------+----------------+---------------+\n",
      "|                Date|       Article_title|Stock_symbol|                 Url|           Publisher|Author|Article|Lsa_summary|Luhn_summary|Textrank_summary|Lexrank_summary|\n",
      "+--------------------+--------------------+------------+--------------------+--------------------+------+-------+-----------+------------+----------------+---------------+\n",
      "|2020-06-05 06:30:...|Stocks That Hit 5...|           A|https://www.benzi...|   Benzinga Insights|  NULL|   NULL|       NULL|        NULL|            NULL|           NULL|\n",
      "|2020-06-03 06:45:...|Stocks That Hit 5...|           A|https://www.benzi...|   Benzinga Insights|  NULL|   NULL|       NULL|        NULL|            NULL|           NULL|\n",
      "|2020-05-26 00:30:...|71 Biggest Movers...|           A|https://www.benzi...|          Lisa Levin|  NULL|   NULL|       NULL|        NULL|            NULL|           NULL|\n",
      "|2020-05-22 08:45:...|46 Stocks Moving ...|           A|https://www.benzi...|          Lisa Levin|  NULL|   NULL|       NULL|        NULL|            NULL|           NULL|\n",
      "|2020-05-22 07:38:...|B of A Securities...|           A|https://www.benzi...|          Vick Meyer|  NULL|   NULL|       NULL|        NULL|            NULL|           NULL|\n",
      "|2020-05-22 07:23:...|CFRA Maintains Ho...|           A|https://www.benzi...|vishwanath@benzin...|  NULL|   NULL|       NULL|        NULL|            NULL|           NULL|\n",
      "|2020-05-22 05:36:...|UBS Maintains Neu...|           A|https://www.benzi...|vishwanath@benzin...|  NULL|   NULL|       NULL|        NULL|            NULL|           NULL|\n",
      "|2020-05-22 05:07:...|Agilent Technolog...|           A|https://www.benzi...|   Benzinga Newsdesk|  NULL|   NULL|       NULL|        NULL|            NULL|           NULL|\n",
      "|2020-05-22 04:37:...|Wells Fargo Maint...|           A|https://www.benzi...|vishwanath@benzin...|  NULL|   NULL|       NULL|        NULL|            NULL|           NULL|\n",
      "|2020-05-22 04:06:...|10 Biggest Price ...|           A|https://www.benzi...|          Lisa Levin|  NULL|   NULL|       NULL|        NULL|            NULL|           NULL|\n",
      "|2020-05-22 00:00:...|30 Stocks Moving ...|           A|https://www.benzi...|          Lisa Levin|  NULL|   NULL|       NULL|        NULL|            NULL|           NULL|\n",
      "|2020-05-22 00:00:...|SVB Leerink Maint...|           A|https://www.benzi...|vishwanath@benzin...|  NULL|   NULL|       NULL|        NULL|            NULL|           NULL|\n",
      "|2020-05-21 00:00:...|8 Stocks Moving I...|           A|https://www.benzi...|        Tyree Gorges|  NULL|   NULL|       NULL|        NULL|            NULL|           NULL|\n",
      "|2020-05-21 00:00:...|Agilent Technolog...|           A|https://www.benzi...|   Benzinga Newsdesk|  NULL|   NULL|       NULL|        NULL|            NULL|           NULL|\n",
      "|2020-05-21 00:00:...|Agilent Technolog...|           A|https://www.benzi...|   Benzinga Newsdesk|  NULL|   NULL|       NULL|        NULL|            NULL|           NULL|\n",
      "|2020-05-21 00:00:...|Earnings Schedule...|           A|https://www.benzi...|          Lisa Levin|  NULL|   NULL|       NULL|        NULL|            NULL|           NULL|\n",
      "|2020-05-18 00:00:...|Agilent Technolog...|           A|https://www.benzi...|       Luke J Jacobi|  NULL|   NULL|       NULL|        NULL|            NULL|           NULL|\n",
      "|2020-05-16 00:00:...|Q1 13F Roundup: H...|           A|https://www.benzi...|        Wayne Duggan|  NULL|   NULL|       NULL|        NULL|            NULL|           NULL|\n",
      "|2020-05-15 00:00:...|Pershing Square 1...|           A|https://www.benzi...|   Benzinga Newsdesk|  NULL|   NULL|       NULL|        NULL|            NULL|           NULL|\n",
      "|2020-05-08 00:00:...|How Bill Ackman S...|           A|https://www.benzi...|        Wayne Duggan|  NULL|   NULL|       NULL|        NULL|            NULL|           NULL|\n",
      "|2020-05-05 00:00:...|Shares of several...|           A|https://www.benzi...|   Benzinga Newsdesk|  NULL|   NULL|       NULL|        NULL|            NULL|           NULL|\n",
      "|2020-05-01 00:00:...|Shares of several...|           A|https://www.benzi...|   Benzinga Newsdesk|  NULL|   NULL|       NULL|        NULL|            NULL|           NULL|\n",
      "|2020-04-28 00:00:...|UBS Maintains Neu...|           A|https://www.benzi...|vishwanath@benzin...|  NULL|   NULL|       NULL|        NULL|            NULL|           NULL|\n",
      "|2020-04-23 00:00:...|Agilent Reports F...|           A|https://www.benzi...|   Benzinga Newsdesk|  NULL|   NULL|       NULL|        NULL|            NULL|           NULL|\n",
      "|2020-04-22 00:00:...|Agilent Reports H...|           A|https://www.benzi...|   Benzinga Newsdesk|  NULL|   NULL|       NULL|        NULL|            NULL|           NULL|\n",
      "|2020-04-14 00:00:...|Agilent Withdraws...|           A|https://www.benzi...|   Benzinga Newsdesk|  NULL|   NULL|       NULL|        NULL|            NULL|           NULL|\n",
      "|2020-04-08 00:00:...|Shares of several...|           A|https://www.benzi...|   Benzinga Newsdesk|  NULL|   NULL|       NULL|        NULL|            NULL|           NULL|\n",
      "|2020-04-06 00:00:...|Shares of several...|           A|https://www.benzi...|   Benzinga Newsdesk|  NULL|   NULL|       NULL|        NULL|            NULL|           NULL|\n",
      "|2020-04-02 00:00:...|Stifel Maintains ...|           A|https://www.benzi...|          Vick Meyer|  NULL|   NULL|       NULL|        NULL|            NULL|           NULL|\n",
      "|2020-04-01 00:00:...|Shares of several...|           A|https://www.benzi...|   Benzinga Newsdesk|  NULL|   NULL|       NULL|        NULL|            NULL|           NULL|\n",
      "|2020-03-31 00:00:...|Int'l. Air Transp...|           A|https://www.benzi...|   Benzinga Newsdesk|  NULL|   NULL|       NULL|        NULL|            NULL|           NULL|\n",
      "|2020-03-30 00:00:...|Wells Fargo Maint...|           A|https://www.benzi...|          Vick Meyer|  NULL|   NULL|       NULL|        NULL|            NULL|           NULL|\n",
      "|2020-03-30 00:00:...|Shares of several...|           A|https://www.benzi...|   Benzinga Newsdesk|  NULL|   NULL|       NULL|        NULL|            NULL|           NULL|\n",
      "|2020-03-27 00:00:...|Shares of several...|           A|https://www.benzi...|   Benzinga Newsdesk|  NULL|   NULL|       NULL|        NULL|            NULL|           NULL|\n",
      "|2020-03-26 00:00:...|Shares of several...|           A|https://www.benzi...|   Benzinga Newsdesk|  NULL|   NULL|       NULL|        NULL|            NULL|           NULL|\n",
      "|2020-03-26 00:00:...|Barclays Maintain...|           A|https://www.benzi...|          Vick Meyer|  NULL|   NULL|       NULL|        NULL|            NULL|           NULL|\n",
      "|2020-03-26 00:00:...|Ariel Chairman Jo...|           A|https://www.benzi...|   Shivdeep Dhaliwal|  NULL|   NULL|       NULL|        NULL|            NULL|           NULL|\n",
      "|2020-03-20 00:00:...|Citigroup Maintai...|           A|https://www.benzi...|          Vick Meyer|  NULL|   NULL|       NULL|        NULL|            NULL|           NULL|\n",
      "|2020-03-16 00:00:...|Stocks That Hit 5...|           A|https://www.benzi...|   Benzinga Newsdesk|  NULL|   NULL|       NULL|        NULL|            NULL|           NULL|\n",
      "|2020-03-16 00:00:...|Shares of several...|           A|https://www.benzi...|   Benzinga Newsdesk|  NULL|   NULL|       NULL|        NULL|            NULL|           NULL|\n",
      "|2020-03-13 00:00:...|Shares of several...|           A|https://www.benzi...|   Benzinga Newsdesk|  NULL|   NULL|       NULL|        NULL|            NULL|           NULL|\n",
      "|2020-03-12 00:00:...|Stocks That Hit 5...|           A|https://www.benzi...|          Lisa Levin|  NULL|   NULL|       NULL|        NULL|            NULL|           NULL|\n",
      "|2020-03-11 00:00:...|Shares of several...|           A|https://www.benzi...|   luke@benzinga.com|  NULL|   NULL|       NULL|        NULL|            NULL|           NULL|\n",
      "|2020-03-03 00:00:...|Agilent Technolog...|           A|https://www.benzi...|   luke@benzinga.com|  NULL|   NULL|       NULL|        NULL|            NULL|           NULL|\n",
      "|2020-03-02 00:00:...|Shares of several...|           A|https://www.benzi...|   Benzinga Newsdesk|  NULL|   NULL|       NULL|        NULL|            NULL|           NULL|\n",
      "|2020-02-24 00:00:...|Benzinga's Top Up...|           A|https://www.benzi...|          Lisa Levin|  NULL|   NULL|       NULL|        NULL|            NULL|           NULL|\n",
      "|2020-02-24 00:00:...|Shares of several...|           A|https://www.benzi...|   Benzinga Newsdesk|  NULL|   NULL|       NULL|        NULL|            NULL|           NULL|\n",
      "|2020-02-24 00:00:...|Needham Downgrade...|           A|https://www.benzi...|          Vick Meyer|  NULL|   NULL|       NULL|        NULL|            NULL|           NULL|\n",
      "|2020-02-19 00:00:...|UBS Maintains Neu...|           A|https://www.benzi...|          Vick Meyer|  NULL|   NULL|       NULL|        NULL|            NULL|           NULL|\n",
      "|2020-02-18 00:00:...|12 Stocks Moving ...|           A|https://www.benzi...|        Tyree Gorges|  NULL|   NULL|       NULL|        NULL|            NULL|           NULL|\n",
      "|2020-02-18 00:00:...|Agilent Technolog...|           A|https://www.benzi...|   Benzinga Newsdesk|  NULL|   NULL|       NULL|        NULL|            NULL|           NULL|\n",
      "|2020-02-18 00:00:...|Agilent Reaffirms...|           A|https://www.benzi...|   Benzinga Newsdesk|  NULL|   NULL|       NULL|        NULL|            NULL|           NULL|\n",
      "|2020-02-18 00:00:...|Agilent Technolog...|           A|https://www.benzi...|   Benzinga Newsdesk|  NULL|   NULL|       NULL|        NULL|            NULL|           NULL|\n",
      "|2020-02-18 00:00:...|Q4 13F Roundup: H...|           A|https://www.benzi...|        Wayne Duggan|  NULL|   NULL|       NULL|        NULL|            NULL|           NULL|\n",
      "|2020-02-18 00:00:...|9 Stocks To Watch...|           A|https://www.benzi...|          Lisa Levin|  NULL|   NULL|       NULL|        NULL|            NULL|           NULL|\n",
      "|2020-02-18 00:00:...|Earnings Schedule...|           A|https://www.benzi...|          Lisa Levin|  NULL|   NULL|       NULL|        NULL|            NULL|           NULL|\n",
      "|2020-02-14 00:00:...|Pershing Square 1...|           A|https://www.benzi...|   Benzinga Newsdesk|  NULL|   NULL|       NULL|        NULL|            NULL|           NULL|\n",
      "|2020-02-06 00:00:...|Twist Bioscience ...|           A|https://www.benzi...|   Benzinga Newsdesk|  NULL|   NULL|       NULL|        NULL|            NULL|           NULL|\n",
      "|2020-02-06 00:00:...|Cowen Says Views ...|           A|https://www.benzi...|   Benzinga Newsdesk|  NULL|   NULL|       NULL|        NULL|            NULL|           NULL|\n",
      "|2020-02-05 00:00:...|Pershing Square S...|           A|https://www.benzi...|   Benzinga Newsdesk|  NULL|   NULL|       NULL|        NULL|            NULL|           NULL|\n",
      "+--------------------+--------------------+------------+--------------------+--------------------+------+-------+-----------+------------+----------------+---------------+\n",
      "only showing top 60 rows\n",
      "\n"
     ]
    }
   ],
   "source": [
    "df_csv_5gb.show(60)"
   ]
  }
 ],
 "metadata": {
  "kernelspec": {
   "display_name": "bigdatavenv",
   "language": "python",
   "name": "python3"
  },
  "language_info": {
   "codemirror_mode": {
    "name": "ipython",
    "version": 3
   },
   "file_extension": ".py",
   "mimetype": "text/x-python",
   "name": "python",
   "nbconvert_exporter": "python",
   "pygments_lexer": "ipython3",
   "version": "3.12.3"
  }
 },
 "nbformat": 4,
 "nbformat_minor": 2
}
