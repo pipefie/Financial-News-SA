{
 "cells": [
  {
   "cell_type": "markdown",
   "metadata": {},
   "source": [
    "**Jupyter notebook for test of any type**"
   ]
  },
  {
   "cell_type": "code",
   "execution_count": 42,
   "metadata": {},
   "outputs": [],
   "source": [
    "import sys\n",
    "import os\n",
    "import pandas as pd\n",
    "from datasets import load_dataset\n",
    "import os\n",
    "import numpy as np\n",
    "import pyspark as ps\n",
    "from pyspark.sql import SparkSession\n",
    "from pyspark.sql.functions import desc, asc, min, max, to_timestamp, col, count, date_trunc, udf\n",
    "import langdetect \n",
    "from pyspark.sql.types import StringType\n",
    "\n",
    "# Get the absolute path of the project root\n",
    "project_root = os.path.abspath(\"..\")  # Adjust if necessary\n",
    "\n",
    "# Add the src directory to Python's path\n",
    "sys.path.append(os.path.join(project_root, \"src\"))\n",
    "\n",
    "if project_root not in sys.path:\n",
    "    sys.path.append(project_root)\n"
   ]
  },
  {
   "cell_type": "code",
   "execution_count": 3,
   "metadata": {},
   "outputs": [],
   "source": [
    "from data import s3_utils as s3U"
   ]
  },
  {
   "cell_type": "code",
   "execution_count": 7,
   "metadata": {},
   "outputs": [],
   "source": [
    "df = pd.read_csv(\"hf://datasets/Shadow-Blade/financialNews/financialNews.csv\")"
   ]
  },
  {
   "cell_type": "code",
   "execution_count": null,
   "metadata": {},
   "outputs": [],
   "source": [
    "os.makedirs('../data/raw/', exist_ok=True) \n",
    "df.to_csv('../data/raw/financialNews_shadow.csv')"
   ]
  },
  {
   "cell_type": "code",
   "execution_count": 3,
   "metadata": {},
   "outputs": [],
   "source": [
    "bucket= \"financialdata-sa\"\n",
    "news_external = \"RawNews/All_external.csv\""
   ]
  },
  {
   "cell_type": "code",
   "execution_count": 4,
   "metadata": {},
   "outputs": [
    {
     "name": "stderr",
     "output_type": "stream",
     "text": [
      "your 131072x1 screen size is bogus. expect trouble\n",
      "25/03/14 19:16:39 WARN Utils: Your hostname, Andres-F resolves to a loopback address: 127.0.1.1; using 10.255.255.254 instead (on interface lo)\n",
      "25/03/14 19:16:39 WARN Utils: Set SPARK_LOCAL_IP if you need to bind to another address\n",
      "25/03/14 19:16:39 WARN NativeCodeLoader: Unable to load native-hadoop library for your platform... using builtin-java classes where applicable\n",
      "Setting default log level to \"WARN\".\n",
      "To adjust logging level use sc.setLogLevel(newLevel). For SparkR, use setLogLevel(newLevel).\n",
      "25/03/14 19:16:42 WARN MetricsConfig: Cannot locate configuration: tried hadoop-metrics2-s3a-file-system.properties,hadoop-metrics2.properties\n",
      "                                                                                \r"
     ]
    }
   ],
   "source": [
    "news1 = s3U.get_csv_as_spark(bucket_name=bucket, s3_key=news_external)"
   ]
  },
  {
   "cell_type": "code",
   "execution_count": null,
   "metadata": {},
   "outputs": [
    {
     "name": "stdout",
     "output_type": "stream",
     "text": [
      "+--------------------+--------------------+------------+--------------------+-----------------+------+-------+-----------+------------+----------------+---------------+\n",
      "|                Date|       Article_title|Stock_symbol|                 Url|        Publisher|Author|Article|Lsa_summary|Luhn_summary|Textrank_summary|Lexrank_summary|\n",
      "+--------------------+--------------------+------------+--------------------+-----------------+------+-------+-----------+------------+----------------+---------------+\n",
      "|2020-06-05 06:30:...|Stocks That Hit 5...|           A|https://www.benzi...|Benzinga Insights|  NULL|   NULL|       NULL|        NULL|            NULL|           NULL|\n",
      "|2020-06-03 06:45:...|Stocks That Hit 5...|           A|https://www.benzi...|Benzinga Insights|  NULL|   NULL|       NULL|        NULL|            NULL|           NULL|\n",
      "|2020-05-26 00:30:...|71 Biggest Movers...|           A|https://www.benzi...|       Lisa Levin|  NULL|   NULL|       NULL|        NULL|            NULL|           NULL|\n",
      "|2020-05-22 08:45:...|46 Stocks Moving ...|           A|https://www.benzi...|       Lisa Levin|  NULL|   NULL|       NULL|        NULL|            NULL|           NULL|\n",
      "|2020-05-22 07:38:...|B of A Securities...|           A|https://www.benzi...|       Vick Meyer|  NULL|   NULL|       NULL|        NULL|            NULL|           NULL|\n",
      "+--------------------+--------------------+------------+--------------------+-----------------+------+-------+-----------+------------+----------------+---------------+\n",
      "only showing top 5 rows\n",
      "\n"
     ]
    },
    {
     "name": "stderr",
     "output_type": "stream",
     "text": [
      "                                                                                \r"
     ]
    },
    {
     "name": "stderr",
     "output_type": "stream",
     "text": [
      "[Stage 2:====>                                                     (3 + 2) / 43]\r"
     ]
    }
   ],
   "source": [
    "news1.show(5)"
   ]
  },
  {
   "cell_type": "code",
   "execution_count": 4,
   "metadata": {},
   "outputs": [
    {
     "name": "stderr",
     "output_type": "stream",
     "text": [
      "your 131072x1 screen size is bogus. expect trouble\n",
      "25/03/21 10:11:45 WARN Utils: Your hostname, SSMRS3-048E9600 resolves to a loopback address: 127.0.1.1; using 10.255.255.254 instead (on interface lo)\n",
      "25/03/21 10:11:45 WARN Utils: Set SPARK_LOCAL_IP if you need to bind to another address\n",
      "Setting default log level to \"WARN\".\n",
      "To adjust logging level use sc.setLogLevel(newLevel). For SparkR, use setLogLevel(newLevel).\n",
      "25/03/21 10:11:46 WARN NativeCodeLoader: Unable to load native-hadoop library for your platform... using builtin-java classes where applicable\n",
      "                                                                                \r"
     ]
    }
   ],
   "source": [
    "spark = SparkSession.builder \\\n",
    "    .appName(\"ConvertCSVtoParquet\") \\\n",
    "    .getOrCreate()\n",
    "\n",
    "df_csv = spark.read \\\n",
    "    .option(\"header\", \"true\") \\\n",
    "    .option(\"inferSchema\", \"true\") \\\n",
    "    .csv(\"../data/raw/nasdaq_exteral_data.csv\")"
   ]
  },
  {
   "cell_type": "code",
   "execution_count": 4,
   "metadata": {},
   "outputs": [
    {
     "name": "stdout",
     "output_type": "stream",
     "text": [
      "root\n",
      " |-- Unnamed: 0: string (nullable = true)\n",
      " |-- Date: string (nullable = true)\n",
      " |-- Article_title: string (nullable = true)\n",
      " |-- Stock_symbol: string (nullable = true)\n",
      " |-- Url: string (nullable = true)\n",
      " |-- Publisher: string (nullable = true)\n",
      " |-- Author: string (nullable = true)\n",
      " |-- Article: string (nullable = true)\n",
      " |-- Lsa_summary: string (nullable = true)\n",
      " |-- Luhn_summary: string (nullable = true)\n",
      " |-- Textrank_summary: string (nullable = true)\n",
      " |-- Lexrank_summary: string (nullable = true)\n",
      "\n"
     ]
    }
   ],
   "source": [
    "df_csv.printSchema()"
   ]
  },
  {
   "cell_type": "code",
   "execution_count": 9,
   "metadata": {},
   "outputs": [
    {
     "name": "stdout",
     "output_type": "stream",
     "text": [
      "+--------------------+--------------------+--------------------+--------------------+--------------------+--------------------+--------------------+--------------------+--------------------+--------------------+--------------------+---------------+\n",
      "|          Unnamed: 0|                Date|       Article_title|        Stock_symbol|                 Url|           Publisher|              Author|             Article|         Lsa_summary|        Luhn_summary|    Textrank_summary|Lexrank_summary|\n",
      "+--------------------+--------------------+--------------------+--------------------+--------------------+--------------------+--------------------+--------------------+--------------------+--------------------+--------------------+---------------+\n",
      "|                 0.0|2023-12-16 23:00:...|Interesting A Put...|                   A|https://www.nasda...|                NULL|                NULL|Investors in Agil...|                NULL|                NULL|                NULL|           NULL|\n",
      "|The put contract ...| they are committ...| but will also co...| putting the cost...| that could repre...|                NULL|                NULL|                NULL|                NULL|                NULL|                NULL|           NULL|\n",
      "|Because the $125....| there is also th...| publishing a cha...| the premium woul...| or 5.45% annuali...|                NULL|                NULL|                NULL|                NULL|                NULL|                NULL|           NULL|\n",
      "|Below is a chart ...|                Inc.| and highlighting...|                NULL|                NULL|                NULL|                NULL|                NULL|                NULL|                NULL|                NULL|           NULL|\n",
      "|Turning to the ca...| the call contrac...| and then sell-to...|\"\" they are commi...| that would drive...| if any) of 13.75...| a lot of upside ...| which is why loo...|                Inc.| as well as study...| with the $150.00...|           NULL|\n",
      "|Considering the f...| there is also th...| in which case th...| Stock Options Ch...| the premium woul...| or 8.83% annualized| which we refer t...|                NULL|                NULL|                NULL|                NULL|           NULL|\n",
      "|The implied volat...| while the implie...|                NULL|                NULL|                NULL|                NULL|                NULL|                NULL|                NULL|                NULL|                NULL|           NULL|\n",
      "|           Meanwhile| we calculate the...| visit StockOptio...|                NULL|                NULL|                NULL|                NULL|                NULL|                NULL|                NULL|                NULL|           NULL|\n",
      "|Top YieldBoost Ca...|                NULL|                NULL|                NULL|                NULL|                NULL|                NULL|                NULL|                NULL|                NULL|                NULL|           NULL|\n",
      "|           Also see:|                NULL|                NULL|                NULL|                NULL|                NULL|                NULL|                NULL|                NULL|                NULL|                NULL|           NULL|\n",
      "| Canadian Stocks...|                NULL|                NULL|                NULL|                NULL|                NULL|                NULL|                NULL|                NULL|                NULL|                NULL|           NULL|\n",
      "| Funds Holding SNUG|                NULL|                NULL|                NULL|                NULL|                NULL|                NULL|                NULL|                NULL|                NULL|                NULL|           NULL|\n",
      "| CCE Insider Buying|                NULL|                NULL|                NULL|                NULL|                NULL|                NULL|                NULL|                NULL|                NULL|                NULL|           NULL|\n",
      "|The views and opi...|               Inc.\"|Because the $125....|The current analy...|Below is a chart ...|At Stock Options ...|                NULL|                NULL|                NULL|                NULL|                NULL|           NULL|\n",
      "|                 1.0|2023-12-12 00:00:...|Wolfe Research In...|                   A|https://www.nasda...|                NULL|                NULL|Fintel reports th...|                NULL|                NULL|                NULL|           NULL|\n",
      "|Analyst Price For...|                NULL|                NULL|                NULL|                NULL|                NULL|                NULL|                NULL|                NULL|                NULL|                NULL|           NULL|\n",
      "|   As of November 27|                2023| the average one-...|                NULL|                NULL|                NULL|                NULL|                NULL|                NULL|                NULL|                NULL|           NULL|\n",
      "|See our leaderboa...|                NULL|                NULL|                NULL|                NULL|                NULL|                NULL|                NULL|                NULL|                NULL|                NULL|           NULL|\n",
      "|The projected ann...|               130MM| an increase of 4...|                NULL|                NULL|                NULL|                NULL|                NULL|                NULL|                NULL|                NULL|           NULL|\n",
      "|Agilent Technolog...|                NULL|                NULL|                NULL|                NULL|                NULL|                NULL|                NULL|                NULL|                NULL|                NULL|           NULL|\n",
      "|      On November 15| 2023 the company...| 2024 will receiv...|    2024. Previously| the company paid...|                NULL|                NULL|                NULL|                NULL|                NULL|                NULL|           NULL|\n",
      "|At the current sh...| the stock's divi...|                NULL|                NULL|                NULL|                NULL|                NULL|                NULL|                NULL|                NULL|                NULL|           NULL|\n",
      "|Looking back five...| the average divi...| the lowest has b...| and the highest ...|                NULL|                NULL|                NULL|                NULL|                NULL|                NULL|                NULL|           NULL|\n",
      "|The current divid...|                NULL|                NULL|                NULL|                NULL|                NULL|                NULL|                NULL|                NULL|                NULL|                NULL|           NULL|\n",
      "|        Additionally| the company's di...| which typically ...| which translates...|                NULL|                NULL|                NULL|                NULL|                NULL|                NULL|                NULL|           NULL|\n",
      "|The company's 3-Y...| demonstrating th...|                NULL|                NULL|                NULL|                NULL|                NULL|                NULL|                NULL|                NULL|                NULL|           NULL|\n",
      "|What is the Fund ...|                NULL|                NULL|                NULL|                NULL|                NULL|                NULL|                NULL|                NULL|                NULL|                NULL|           NULL|\n",
      "|There are 1945 fu...| a decrease of 2....|        740K shares.|                NULL|                NULL|                NULL|                NULL|                NULL|                NULL|                NULL|                NULL|           NULL|\n",
      "|The put/call rati...| indicating a bea...|                NULL|                NULL|                NULL|                NULL|                NULL|                NULL|                NULL|                NULL|                NULL|           NULL|\n",
      "|What are Other Sh...|                NULL|                NULL|                NULL|                NULL|                NULL|                NULL|                NULL|                NULL|                NULL|                NULL|           NULL|\n",
      "|Massachusetts Fin...|076K shares repre...| the firm reporte...|         037K shares| representing an ...|                NULL|                NULL|                NULL|                NULL|                NULL|                NULL|           NULL|\n",
      "|Wellington Manage...|256K shares repre...| the firm reporte...|         736K shares| representing an ...|                NULL|                NULL|                NULL|                NULL|                NULL|                NULL|           NULL|\n",
      "|T. Rowe Price Inv...|122K shares repre...| the firm reporte...|         968K shares| representing an ...|                NULL|                NULL|                NULL|                NULL|                NULL|                NULL|           NULL|\n",
      "|VTSMX - Vanguard ...|113K shares repre...| the firm reporte...|         177K shares| representing a d...|                NULL|                NULL|                NULL|                NULL|                NULL|                NULL|           NULL|\n",
      "|Price T Rowe Asso...|386K shares repre...| the firm reporte...|         054K shares| representing a d...|                NULL|                NULL|                NULL|                NULL|                NULL|                NULL|           NULL|\n",
      "|Agilent Technolog...|                NULL|                NULL|                NULL|                NULL|                NULL|                NULL|                NULL|                NULL|                NULL|                NULL|           NULL|\n",
      "|(This description...|                NULL|                NULL|                NULL|                NULL|                NULL|                NULL|                NULL|                NULL|                NULL|                NULL|           NULL|\n",
      "|Agilent Technolog...|         diagnostics| and applied chem...| delivering insig...|            software|            services|           solutions| and people provi...|400 people worldw...|                NULL|                NULL|           NULL|\n",
      "|Fintel is one of ...|             traders|  financial advisors| and small hedge ...|                NULL|                NULL|                NULL|                NULL|                NULL|                NULL|                NULL|           NULL|\n",
      "|Our data covers t...| and includes fun...|     analyst reports| ownership data a...|   options sentiment|     insider trading|        options flow| unusual options ...| and much more. A...| our exclusive st...| backtested quant...|           NULL|\n",
      "| Click to Learn More|                NULL|                NULL|                NULL|                NULL|                NULL|                NULL|                NULL|                NULL|                NULL|                NULL|           NULL|\n",
      "|This story origin...|                NULL|                NULL|                NULL|                NULL|                NULL|                NULL|                NULL|                NULL|                NULL|                NULL|           NULL|\n",
      "|The views and opi...|               Inc.\"|Fintel reports th...|T. Rowe Price Inv...|Agilent Technolog...|The projected ann...|                NULL|                NULL|                NULL|                NULL|                NULL|           NULL|\n",
      "|                 2.0|2023-12-12 00:00:...|Agilent Technolog...|                   A|https://www.nasda...|                NULL|                NULL|In recent trading...|                NULL|                NULL|                NULL|           NULL|\n",
      "|There are 14 diff...|                Inc.| but the average ...| including one lo...|                NULL|                NULL|                NULL|                NULL|                NULL|                NULL|                NULL|           NULL|\n",
      "|But the whole rea...| putting together...| as opposed to wh...| investors in A h...| or has the valua...|               Inc.:|                NULL|                NULL|                NULL|                NULL|                NULL|           NULL|\n",
      "|RECENT A ANALYST ...|                NULL|                NULL|                NULL|                NULL|                NULL|                NULL|                NULL|                NULL|                NULL|                NULL|           NULL|\n",
      "|» Current 1 Month...|                NULL|                NULL|                NULL|                NULL|                NULL|                NULL|                NULL|                NULL|                NULL|                NULL|           NULL|\n",
      "|Strong buy rating...|                NULL|                NULL|                NULL|                NULL|                NULL|                NULL|                NULL|                NULL|                NULL|                NULL|           NULL|\n",
      "|Buy ratings: 0 0 0 0|                NULL|                NULL|                NULL|                NULL|                NULL|                NULL|                NULL|                NULL|                NULL|                NULL|           NULL|\n",
      "+--------------------+--------------------+--------------------+--------------------+--------------------+--------------------+--------------------+--------------------+--------------------+--------------------+--------------------+---------------+\n",
      "only showing top 50 rows\n",
      "\n"
     ]
    }
   ],
   "source": [
    "df_csv.show(50)"
   ]
  },
  {
   "cell_type": "code",
   "execution_count": 24,
   "metadata": {},
   "outputs": [
    {
     "name": "stderr",
     "output_type": "stream",
     "text": [
      "                                                                                \r"
     ]
    }
   ],
   "source": [
    "\n",
    "df_csv_5gb = spark.read \\\n",
    "    .format(\"csv\") \\\n",
    "    .option(\"header\", \"true\") \\\n",
    "    .option(\"inferSchema\", \"true\") \\\n",
    "    .option(\"multiLine\", \"true\") \\\n",
    "    .option(\"escape\", \"\\\"\") \\\n",
    "    .option(\"quote\", \"\\\"\") \\\n",
    "    .option(\"delimiter\", \",\") \\\n",
    "    .option(\"mode\", \"PERMISSIVE\") \\\n",
    "    .load(\"../data/raw/All_external.csv\")"
   ]
  },
  {
   "cell_type": "code",
   "execution_count": 29,
   "metadata": {},
   "outputs": [
    {
     "data": {
      "text/plain": [
       "DataFrame[summary: string, Article_title: string, Stock_symbol: string, Url: string, Publisher: string, Author: string, Article: string, Lsa_summary: string, Luhn_summary: string, Textrank_summary: string, Lexrank_summary: string]"
      ]
     },
     "execution_count": 29,
     "metadata": {},
     "output_type": "execute_result"
    }
   ],
   "source": [
    "df_csv_5gb.describe()"
   ]
  },
  {
   "cell_type": "code",
   "execution_count": 13,
   "metadata": {},
   "outputs": [
    {
     "name": "stdout",
     "output_type": "stream",
     "text": [
      "+--------------------+--------------------+------------+--------------------+--------------------+------+-------+-----------+------------+----------------+---------------+\n",
      "|                Date|       Article_title|Stock_symbol|                 Url|           Publisher|Author|Article|Lsa_summary|Luhn_summary|Textrank_summary|Lexrank_summary|\n",
      "+--------------------+--------------------+------------+--------------------+--------------------+------+-------+-----------+------------+----------------+---------------+\n",
      "|2020-06-05 06:30:...|Stocks That Hit 5...|           A|https://www.benzi...|   Benzinga Insights|  NULL|   NULL|       NULL|        NULL|            NULL|           NULL|\n",
      "|2020-06-03 06:45:...|Stocks That Hit 5...|           A|https://www.benzi...|   Benzinga Insights|  NULL|   NULL|       NULL|        NULL|            NULL|           NULL|\n",
      "|2020-05-26 00:30:...|71 Biggest Movers...|           A|https://www.benzi...|          Lisa Levin|  NULL|   NULL|       NULL|        NULL|            NULL|           NULL|\n",
      "|2020-05-22 08:45:...|46 Stocks Moving ...|           A|https://www.benzi...|          Lisa Levin|  NULL|   NULL|       NULL|        NULL|            NULL|           NULL|\n",
      "|2020-05-22 07:38:...|B of A Securities...|           A|https://www.benzi...|          Vick Meyer|  NULL|   NULL|       NULL|        NULL|            NULL|           NULL|\n",
      "|2020-05-22 07:23:...|CFRA Maintains Ho...|           A|https://www.benzi...|vishwanath@benzin...|  NULL|   NULL|       NULL|        NULL|            NULL|           NULL|\n",
      "|2020-05-22 05:36:...|UBS Maintains Neu...|           A|https://www.benzi...|vishwanath@benzin...|  NULL|   NULL|       NULL|        NULL|            NULL|           NULL|\n",
      "|2020-05-22 05:07:...|Agilent Technolog...|           A|https://www.benzi...|   Benzinga Newsdesk|  NULL|   NULL|       NULL|        NULL|            NULL|           NULL|\n",
      "|2020-05-22 04:37:...|Wells Fargo Maint...|           A|https://www.benzi...|vishwanath@benzin...|  NULL|   NULL|       NULL|        NULL|            NULL|           NULL|\n",
      "|2020-05-22 04:06:...|10 Biggest Price ...|           A|https://www.benzi...|          Lisa Levin|  NULL|   NULL|       NULL|        NULL|            NULL|           NULL|\n",
      "|2020-05-22 00:00:...|30 Stocks Moving ...|           A|https://www.benzi...|          Lisa Levin|  NULL|   NULL|       NULL|        NULL|            NULL|           NULL|\n",
      "|2020-05-22 00:00:...|SVB Leerink Maint...|           A|https://www.benzi...|vishwanath@benzin...|  NULL|   NULL|       NULL|        NULL|            NULL|           NULL|\n",
      "|2020-05-21 00:00:...|8 Stocks Moving I...|           A|https://www.benzi...|        Tyree Gorges|  NULL|   NULL|       NULL|        NULL|            NULL|           NULL|\n",
      "|2020-05-21 00:00:...|Agilent Technolog...|           A|https://www.benzi...|   Benzinga Newsdesk|  NULL|   NULL|       NULL|        NULL|            NULL|           NULL|\n",
      "|2020-05-21 00:00:...|Agilent Technolog...|           A|https://www.benzi...|   Benzinga Newsdesk|  NULL|   NULL|       NULL|        NULL|            NULL|           NULL|\n",
      "|2020-05-21 00:00:...|Earnings Schedule...|           A|https://www.benzi...|          Lisa Levin|  NULL|   NULL|       NULL|        NULL|            NULL|           NULL|\n",
      "|2020-05-18 00:00:...|Agilent Technolog...|           A|https://www.benzi...|       Luke J Jacobi|  NULL|   NULL|       NULL|        NULL|            NULL|           NULL|\n",
      "|2020-05-16 00:00:...|Q1 13F Roundup: H...|           A|https://www.benzi...|        Wayne Duggan|  NULL|   NULL|       NULL|        NULL|            NULL|           NULL|\n",
      "|2020-05-15 00:00:...|Pershing Square 1...|           A|https://www.benzi...|   Benzinga Newsdesk|  NULL|   NULL|       NULL|        NULL|            NULL|           NULL|\n",
      "|2020-05-08 00:00:...|How Bill Ackman S...|           A|https://www.benzi...|        Wayne Duggan|  NULL|   NULL|       NULL|        NULL|            NULL|           NULL|\n",
      "|2020-05-05 00:00:...|Shares of several...|           A|https://www.benzi...|   Benzinga Newsdesk|  NULL|   NULL|       NULL|        NULL|            NULL|           NULL|\n",
      "|2020-05-01 00:00:...|Shares of several...|           A|https://www.benzi...|   Benzinga Newsdesk|  NULL|   NULL|       NULL|        NULL|            NULL|           NULL|\n",
      "|2020-04-28 00:00:...|UBS Maintains Neu...|           A|https://www.benzi...|vishwanath@benzin...|  NULL|   NULL|       NULL|        NULL|            NULL|           NULL|\n",
      "|2020-04-23 00:00:...|Agilent Reports F...|           A|https://www.benzi...|   Benzinga Newsdesk|  NULL|   NULL|       NULL|        NULL|            NULL|           NULL|\n",
      "|2020-04-22 00:00:...|Agilent Reports H...|           A|https://www.benzi...|   Benzinga Newsdesk|  NULL|   NULL|       NULL|        NULL|            NULL|           NULL|\n",
      "|2020-04-14 00:00:...|Agilent Withdraws...|           A|https://www.benzi...|   Benzinga Newsdesk|  NULL|   NULL|       NULL|        NULL|            NULL|           NULL|\n",
      "|2020-04-08 00:00:...|Shares of several...|           A|https://www.benzi...|   Benzinga Newsdesk|  NULL|   NULL|       NULL|        NULL|            NULL|           NULL|\n",
      "|2020-04-06 00:00:...|Shares of several...|           A|https://www.benzi...|   Benzinga Newsdesk|  NULL|   NULL|       NULL|        NULL|            NULL|           NULL|\n",
      "|2020-04-02 00:00:...|Stifel Maintains ...|           A|https://www.benzi...|          Vick Meyer|  NULL|   NULL|       NULL|        NULL|            NULL|           NULL|\n",
      "|2020-04-01 00:00:...|Shares of several...|           A|https://www.benzi...|   Benzinga Newsdesk|  NULL|   NULL|       NULL|        NULL|            NULL|           NULL|\n",
      "|2020-03-31 00:00:...|Int'l. Air Transp...|           A|https://www.benzi...|   Benzinga Newsdesk|  NULL|   NULL|       NULL|        NULL|            NULL|           NULL|\n",
      "|2020-03-30 00:00:...|Wells Fargo Maint...|           A|https://www.benzi...|          Vick Meyer|  NULL|   NULL|       NULL|        NULL|            NULL|           NULL|\n",
      "|2020-03-30 00:00:...|Shares of several...|           A|https://www.benzi...|   Benzinga Newsdesk|  NULL|   NULL|       NULL|        NULL|            NULL|           NULL|\n",
      "|2020-03-27 00:00:...|Shares of several...|           A|https://www.benzi...|   Benzinga Newsdesk|  NULL|   NULL|       NULL|        NULL|            NULL|           NULL|\n",
      "|2020-03-26 00:00:...|Shares of several...|           A|https://www.benzi...|   Benzinga Newsdesk|  NULL|   NULL|       NULL|        NULL|            NULL|           NULL|\n",
      "|2020-03-26 00:00:...|Barclays Maintain...|           A|https://www.benzi...|          Vick Meyer|  NULL|   NULL|       NULL|        NULL|            NULL|           NULL|\n",
      "|2020-03-26 00:00:...|Ariel Chairman Jo...|           A|https://www.benzi...|   Shivdeep Dhaliwal|  NULL|   NULL|       NULL|        NULL|            NULL|           NULL|\n",
      "|2020-03-20 00:00:...|Citigroup Maintai...|           A|https://www.benzi...|          Vick Meyer|  NULL|   NULL|       NULL|        NULL|            NULL|           NULL|\n",
      "|2020-03-16 00:00:...|Stocks That Hit 5...|           A|https://www.benzi...|   Benzinga Newsdesk|  NULL|   NULL|       NULL|        NULL|            NULL|           NULL|\n",
      "|2020-03-16 00:00:...|Shares of several...|           A|https://www.benzi...|   Benzinga Newsdesk|  NULL|   NULL|       NULL|        NULL|            NULL|           NULL|\n",
      "|2020-03-13 00:00:...|Shares of several...|           A|https://www.benzi...|   Benzinga Newsdesk|  NULL|   NULL|       NULL|        NULL|            NULL|           NULL|\n",
      "|2020-03-12 00:00:...|Stocks That Hit 5...|           A|https://www.benzi...|          Lisa Levin|  NULL|   NULL|       NULL|        NULL|            NULL|           NULL|\n",
      "|2020-03-11 00:00:...|Shares of several...|           A|https://www.benzi...|   luke@benzinga.com|  NULL|   NULL|       NULL|        NULL|            NULL|           NULL|\n",
      "|2020-03-03 00:00:...|Agilent Technolog...|           A|https://www.benzi...|   luke@benzinga.com|  NULL|   NULL|       NULL|        NULL|            NULL|           NULL|\n",
      "|2020-03-02 00:00:...|Shares of several...|           A|https://www.benzi...|   Benzinga Newsdesk|  NULL|   NULL|       NULL|        NULL|            NULL|           NULL|\n",
      "|2020-02-24 00:00:...|Benzinga's Top Up...|           A|https://www.benzi...|          Lisa Levin|  NULL|   NULL|       NULL|        NULL|            NULL|           NULL|\n",
      "|2020-02-24 00:00:...|Shares of several...|           A|https://www.benzi...|   Benzinga Newsdesk|  NULL|   NULL|       NULL|        NULL|            NULL|           NULL|\n",
      "|2020-02-24 00:00:...|Needham Downgrade...|           A|https://www.benzi...|          Vick Meyer|  NULL|   NULL|       NULL|        NULL|            NULL|           NULL|\n",
      "|2020-02-19 00:00:...|UBS Maintains Neu...|           A|https://www.benzi...|          Vick Meyer|  NULL|   NULL|       NULL|        NULL|            NULL|           NULL|\n",
      "|2020-02-18 00:00:...|12 Stocks Moving ...|           A|https://www.benzi...|        Tyree Gorges|  NULL|   NULL|       NULL|        NULL|            NULL|           NULL|\n",
      "|2020-02-18 00:00:...|Agilent Technolog...|           A|https://www.benzi...|   Benzinga Newsdesk|  NULL|   NULL|       NULL|        NULL|            NULL|           NULL|\n",
      "|2020-02-18 00:00:...|Agilent Reaffirms...|           A|https://www.benzi...|   Benzinga Newsdesk|  NULL|   NULL|       NULL|        NULL|            NULL|           NULL|\n",
      "|2020-02-18 00:00:...|Agilent Technolog...|           A|https://www.benzi...|   Benzinga Newsdesk|  NULL|   NULL|       NULL|        NULL|            NULL|           NULL|\n",
      "|2020-02-18 00:00:...|Q4 13F Roundup: H...|           A|https://www.benzi...|        Wayne Duggan|  NULL|   NULL|       NULL|        NULL|            NULL|           NULL|\n",
      "|2020-02-18 00:00:...|9 Stocks To Watch...|           A|https://www.benzi...|          Lisa Levin|  NULL|   NULL|       NULL|        NULL|            NULL|           NULL|\n",
      "|2020-02-18 00:00:...|Earnings Schedule...|           A|https://www.benzi...|          Lisa Levin|  NULL|   NULL|       NULL|        NULL|            NULL|           NULL|\n",
      "|2020-02-14 00:00:...|Pershing Square 1...|           A|https://www.benzi...|   Benzinga Newsdesk|  NULL|   NULL|       NULL|        NULL|            NULL|           NULL|\n",
      "|2020-02-06 00:00:...|Twist Bioscience ...|           A|https://www.benzi...|   Benzinga Newsdesk|  NULL|   NULL|       NULL|        NULL|            NULL|           NULL|\n",
      "|2020-02-06 00:00:...|Cowen Says Views ...|           A|https://www.benzi...|   Benzinga Newsdesk|  NULL|   NULL|       NULL|        NULL|            NULL|           NULL|\n",
      "|2020-02-05 00:00:...|Pershing Square S...|           A|https://www.benzi...|   Benzinga Newsdesk|  NULL|   NULL|       NULL|        NULL|            NULL|           NULL|\n",
      "|2020-01-30 00:00:...|Agilent shares ar...|           A|https://www.benzi...|   Benzinga Newsdesk|  NULL|   NULL|       NULL|        NULL|            NULL|           NULL|\n",
      "|2020-01-22 00:00:...|Stocks That Hit 5...|           A|https://www.benzi...|          Lisa Levin|  NULL|   NULL|       NULL|        NULL|            NULL|           NULL|\n",
      "|2020-01-17 00:00:...|Stocks That Hit 5...|           A|https://www.benzi...|          Lisa Levin|  NULL|   NULL|       NULL|        NULL|            NULL|           NULL|\n",
      "|2020-01-16 00:00:...|Stocks That Hit 5...|           A|https://www.benzi...|          Lisa Levin|  NULL|   NULL|       NULL|        NULL|            NULL|           NULL|\n",
      "|2020-01-15 00:00:...|Stocks That Hit 5...|           A|https://www.benzi...|          Lisa Levin|  NULL|   NULL|       NULL|        NULL|            NULL|           NULL|\n",
      "|2020-01-10 00:00:...|Stocks That Hit 5...|           A|https://www.benzi...|          Lisa Levin|  NULL|   NULL|       NULL|        NULL|            NULL|           NULL|\n",
      "|2020-01-09 00:00:...|Stocks That Hit 5...|           A|https://www.benzi...|          Lisa Levin|  NULL|   NULL|       NULL|        NULL|            NULL|           NULL|\n",
      "|2020-01-08 00:00:...|Wells Fargo Initi...|           A|https://www.benzi...|   Benzinga_Newsdesk|  NULL|   NULL|       NULL|        NULL|            NULL|           NULL|\n",
      "|2020-01-07 00:00:...|Citigroup Initiat...|           A|https://www.benzi...|   Benzinga_Newsdesk|  NULL|   NULL|       NULL|        NULL|            NULL|           NULL|\n",
      "|2020-01-03 00:00:...|Benzinga's Top Up...|           A|https://www.benzi...|          Lisa Levin|  NULL|   NULL|       NULL|        NULL|            NULL|           NULL|\n",
      "|2019-12-27 00:00:...|Stocks That Hit 5...|           A|https://www.benzi...|          Lisa Levin|  NULL|   NULL|       NULL|        NULL|            NULL|           NULL|\n",
      "|2019-12-23 00:00:...|Stocks That Hit 5...|           A|https://www.benzi...|          Lisa Levin|  NULL|   NULL|       NULL|        NULL|            NULL|           NULL|\n",
      "|2019-12-20 00:00:...|Stocks That Hit 5...|           A|https://www.benzi...|          Lisa Levin|  NULL|   NULL|       NULL|        NULL|            NULL|           NULL|\n",
      "|2019-12-12 00:00:...|Stocks That Hit 5...|           A|https://www.benzi...|          Lisa Levin|  NULL|   NULL|       NULL|        NULL|            NULL|           NULL|\n",
      "|2019-12-11 00:00:...|There's A New Tra...|           A|https://www.benzi...|      Spencer Israel|  NULL|   NULL|       NULL|        NULL|            NULL|           NULL|\n",
      "|2019-12-10 00:00:...|Stocks That Hit 5...|           A|https://www.benzi...|          Lisa Levin|  NULL|   NULL|       NULL|        NULL|            NULL|           NULL|\n",
      "|2019-12-10 00:00:...|PreMarket Prep Re...|           A|https://www.benzi...|        Joel Elconin|  NULL|   NULL|       NULL|        NULL|            NULL|           NULL|\n",
      "|2019-12-10 00:00:...|41 Healthcare Sto...|           A|https://www.benzi...|          Lisa Levin|  NULL|   NULL|       NULL|        NULL|            NULL|           NULL|\n",
      "|2019-12-09 00:00:...|UPDATE: Bill Ackm...|           A|https://www.benzi...|   Benzinga Newsdesk|  NULL|   NULL|       NULL|        NULL|            NULL|           NULL|\n",
      "|2019-12-09 00:00:...|Hearing Pershing ...|           A|https://www.benzi...|   Benzinga Newsdesk|  NULL|   NULL|       NULL|        NULL|            NULL|           NULL|\n",
      "|2019-12-06 00:00:...|Stocks That Hit 5...|           A|https://www.benzi...|          Lisa Levin|  NULL|   NULL|       NULL|        NULL|            NULL|           NULL|\n",
      "|2019-11-26 00:00:...|UBS Maintains Neu...|           A|https://www.benzi...|          Vick Meyer|  NULL|   NULL|       NULL|        NULL|            NULL|           NULL|\n",
      "|2019-11-25 00:00:...|Aligent shares ar...|           A|https://www.benzi...|   Benzinga Newsdesk|  NULL|   NULL|       NULL|        NULL|            NULL|           NULL|\n",
      "|2019-11-25 00:00:...|Agilent Sees FY20...|           A|https://www.benzi...|   Benzinga Newsdesk|  NULL|   NULL|       NULL|        NULL|            NULL|           NULL|\n",
      "|2019-11-25 00:00:...|Agilent Sees Q1 A...|           A|https://www.benzi...|   Benzinga Newsdesk|  NULL|   NULL|       NULL|        NULL|            NULL|           NULL|\n",
      "|2019-11-25 00:00:...|Agilent Technolog...|           A|https://www.benzi...|   Benzinga Newsdesk|  NULL|   NULL|       NULL|        NULL|            NULL|           NULL|\n",
      "|2019-11-25 00:00:...|7 Stocks To Watch...|           A|https://www.benzi...|          Lisa Levin|  NULL|   NULL|       NULL|        NULL|            NULL|           NULL|\n",
      "|2019-11-25 00:00:...|Earnings Schedule...|           A|https://www.benzi...|          Lisa Levin|  NULL|   NULL|       NULL|        NULL|            NULL|           NULL|\n",
      "|2019-11-20 00:00:...|Agilent Raises Qt...|           A|https://www.benzi...|   Benzinga Newsdesk|  NULL|   NULL|       NULL|        NULL|            NULL|           NULL|\n",
      "|2019-11-15 00:00:...|Benzinga's Top Up...|           A|https://www.benzi...|          Lisa Levin|  NULL|   NULL|       NULL|        NULL|            NULL|           NULL|\n",
      "|2019-11-15 00:00:...|Stifel Nicolaus I...|           A|https://www.benzi...|          Vick Meyer|  NULL|   NULL|       NULL|        NULL|            NULL|           NULL|\n",
      "|2019-10-18 00:00:...|Benzinga's Top Up...|           A|https://www.benzi...|          Lisa Levin|  NULL|   NULL|       NULL|        NULL|            NULL|           NULL|\n",
      "|2019-10-18 00:00:...|A Peek Into The M...|           A|https://www.benzi...|          Lisa Levin|  NULL|   NULL|       NULL|        NULL|            NULL|           NULL|\n",
      "|2019-10-18 00:00:...|UBS Downgrades Ag...|           A|https://www.benzi...|          Vick Meyer|  NULL|   NULL|       NULL|        NULL|            NULL|           NULL|\n",
      "|2019-10-11 00:00:...|Shares of several...|           A|https://www.benzi...|   Benzinga Newsdesk|  NULL|   NULL|       NULL|        NULL|            NULL|           NULL|\n",
      "|2019-10-09 00:00:...|Barclays Maintain...|           A|https://www.benzi...|          Vick Meyer|  NULL|   NULL|       NULL|        NULL|            NULL|           NULL|\n",
      "|2019-10-08 00:00:...|Shares of several...|           A|https://www.benzi...|   Benzinga Newsdesk|  NULL|   NULL|       NULL|        NULL|            NULL|           NULL|\n",
      "|2019-10-02 00:00:...|Shares of several...|           A|https://www.benzi...|   Benzinga Newsdesk|  NULL|   NULL|       NULL|        NULL|            NULL|           NULL|\n",
      "|2019-09-05 00:00:...|Shares of several...|           A|https://www.benzi...|   Benzinga Newsdesk|  NULL|   NULL|       NULL|        NULL|            NULL|           NULL|\n",
      "|2019-09-03 00:00:...|Agilent Collabora...|           A|https://www.benzi...|   Benzinga Newsdesk|  NULL|   NULL|       NULL|        NULL|            NULL|           NULL|\n",
      "|2019-08-16 00:00:...|Top 10 Movers Via...|           A|https://www.benzi...|   Benzinga Newsdesk|  NULL|   NULL|       NULL|        NULL|            NULL|           NULL|\n",
      "|2019-08-16 00:00:...|75 Biggest Movers...|           A|https://www.benzi...|          Lisa Levin|  NULL|   NULL|       NULL|        NULL|            NULL|           NULL|\n",
      "|2019-08-15 00:00:...|46 Stocks Moving ...|           A|https://www.benzi...|          Lisa Levin|  NULL|   NULL|       NULL|        NULL|            NULL|           NULL|\n",
      "|2019-08-15 00:00:...|Agilent Technolog...|           A|https://www.benzi...|   Benzinga Newsdesk|  NULL|   NULL|       NULL|        NULL|            NULL|           NULL|\n",
      "|2019-08-15 00:00:...|A Peek Into The M...|           A|https://www.benzi...|          Lisa Levin|  NULL|   NULL|       NULL|        NULL|            NULL|           NULL|\n",
      "|2019-08-15 00:00:...|10 Stocks To Watc...|           A|https://www.benzi...|          Lisa Levin|  NULL|   NULL|       NULL|        NULL|            NULL|           NULL|\n",
      "|2019-08-14 00:00:...|Agilent Technolog...|           A|https://www.benzi...|   Benzinga Newsdesk|  NULL|   NULL|       NULL|        NULL|            NULL|           NULL|\n",
      "|2019-08-14 00:00:...|Agilent Technolog...|           A|https://www.benzi...|   Benzinga Newsdesk|  NULL|   NULL|       NULL|        NULL|            NULL|           NULL|\n",
      "|2019-08-14 00:00:...|Agilent Technolog...|           A|https://www.benzi...|   Benzinga Newsdesk|  NULL|   NULL|       NULL|        NULL|            NULL|           NULL|\n",
      "|2019-08-14 00:00:...|Q3 Earnings Previ...|           A|https://www.benzi...|   Benzinga Newsdesk|  NULL|   NULL|       NULL|        NULL|            NULL|           NULL|\n",
      "|2019-08-14 00:00:...|Earnings Schedule...|           A|https://www.benzi...|          Lisa Levin|  NULL|   NULL|       NULL|        NULL|            NULL|           NULL|\n",
      "|2019-08-06 00:00:...|Shares of diagnos...|           A|https://www.benzi...|   Benzinga Newsdesk|  NULL|   NULL|       NULL|        NULL|            NULL|           NULL|\n",
      "|2019-08-05 00:00:...|Shares of several...|           A|https://www.benzi...|   Benzinga Newsdesk|  NULL|   NULL|       NULL|        NULL|            NULL|           NULL|\n",
      "|2019-08-01 00:00:...|Agilent Announces...|           A|https://www.benzi...|       Charles Gross|  NULL|   NULL|       NULL|        NULL|            NULL|           NULL|\n",
      "|2019-07-31 00:00:...|Agilent Shares Un...|           A|https://www.benzi...|   Benzinga Newsdesk|  NULL|   NULL|       NULL|        NULL|            NULL|           NULL|\n",
      "|2019-07-16 00:00:...|Benzinga Pro's To...|           A|https://www.benzi...|   Benzinga Newsdesk|  NULL|   NULL|       NULL|        NULL|            NULL|           NULL|\n",
      "|2019-07-16 00:00:...|Benzinga's Top Up...|           A|https://www.benzi...|          Lisa Levin|  NULL|   NULL|       NULL|        NULL|            NULL|           NULL|\n",
      "|2019-07-16 00:00:...|Bank of America D...|           A|https://www.benzi...|   Benzinga_Newsdesk|  NULL|   NULL|       NULL|        NULL|            NULL|           NULL|\n",
      "|2019-07-15 00:00:...|Barclays Downgrad...|           A|https://www.benzi...|          Vick Meyer|  NULL|   NULL|       NULL|        NULL|            NULL|           NULL|\n",
      "|2019-07-11 00:00:...|Agilent Will Acqu...|           A|https://www.benzi...|      Tanzeel Akhtar|  NULL|   NULL|       NULL|        NULL|            NULL|           NULL|\n",
      "|2019-07-11 00:00:...|Agilent To Purcha...|           A|https://www.benzi...|   Benzinga Newsdesk|  NULL|   NULL|       NULL|        NULL|            NULL|           NULL|\n",
      "|2019-06-11 00:00:...|Benzinga's Top Up...|           A|https://www.benzi...|          Lisa Levin|  NULL|   NULL|       NULL|        NULL|            NULL|           NULL|\n",
      "|2019-06-11 00:00:...|Agilent Companion...|           A|https://www.benzi...|   Benzinga Newsdesk|  NULL|   NULL|       NULL|        NULL|            NULL|           NULL|\n",
      "|2019-06-11 00:00:...|Piper Jaffray Ini...|           A|https://www.benzi...|          Vick Meyer|  NULL|   NULL|       NULL|        NULL|            NULL|           NULL|\n",
      "|2019-05-16 00:00:...|Shares of many He...|           A|https://www.benzi...|   Benzinga Newsdesk|  NULL|   NULL|       NULL|        NULL|            NULL|           NULL|\n",
      "|2019-05-16 00:00:...|60 Biggest Movers...|           A|https://www.benzi...|          Lisa Levin|  NULL|   NULL|       NULL|        NULL|            NULL|           NULL|\n",
      "|2019-05-15 00:00:...|44 Stocks Moving ...|           A|https://www.benzi...|          Lisa Levin|  NULL|   NULL|       NULL|        NULL|            NULL|           NULL|\n",
      "|2019-05-15 00:00:...|Benzinga Pro's To...|           A|https://www.benzi...|   Benzinga Newsdesk|  NULL|   NULL|       NULL|        NULL|            NULL|           NULL|\n",
      "|2019-05-15 00:00:...|Bank of America M...|           A|https://www.benzi...|          Vick Meyer|  NULL|   NULL|       NULL|        NULL|            NULL|           NULL|\n",
      "|2019-05-15 00:00:...|Agilent Technolog...|           A|https://www.benzi...|  Benzinga  Newsdesk|  NULL|   NULL|       NULL|        NULL|            NULL|           NULL|\n",
      "|2019-05-15 00:00:...|Deutsche Bank Mai...|           A|https://www.benzi...|          Vick Meyer|  NULL|   NULL|       NULL|        NULL|            NULL|           NULL|\n",
      "|2019-05-15 00:00:...|Barclays Maintain...|           A|https://www.benzi...|          Vick Meyer|  NULL|   NULL|       NULL|        NULL|            NULL|           NULL|\n",
      "|2019-05-15 00:00:...|A Peek Into The M...|           A|https://www.benzi...|          Lisa Levin|  NULL|   NULL|       NULL|        NULL|            NULL|           NULL|\n",
      "|2019-05-15 00:00:...|8 Stocks To Watch...|           A|https://www.benzi...|          Lisa Levin|  NULL|   NULL|       NULL|        NULL|            NULL|           NULL|\n",
      "|2019-05-14 00:00:...|5 Stocks Moving I...|           A|https://www.benzi...|      Brett Hershman|  NULL|   NULL|       NULL|        NULL|            NULL|           NULL|\n",
      "|2019-05-14 00:00:...|Agilent Technolog...|           A|https://www.benzi...|          Hal Lindon|  NULL|   NULL|       NULL|        NULL|            NULL|           NULL|\n",
      "|2019-05-14 00:00:...|Agilent Technolog...|           A|https://www.benzi...|   Benzinga Newsdesk|  NULL|   NULL|       NULL|        NULL|            NULL|           NULL|\n",
      "|2019-05-14 00:00:...|Agilent Technolog...|           A|https://www.benzi...|   Benzinga Newsdesk|  NULL|   NULL|       NULL|        NULL|            NULL|           NULL|\n",
      "|2019-05-14 00:00:...|Shares of several...|           A|https://www.benzi...|   Benzinga Newsdesk|  NULL|   NULL|       NULL|        NULL|            NULL|           NULL|\n",
      "|2019-05-14 00:00:...|6 Stocks To Watch...|           A|https://www.benzi...|          Lisa Levin|  NULL|   NULL|       NULL|        NULL|            NULL|           NULL|\n",
      "|2019-05-14 00:00:...|Earnings Schedule...|           A|https://www.benzi...|          Lisa Levin|  NULL|   NULL|       NULL|        NULL|            NULL|           NULL|\n",
      "|2019-05-10 00:00:...|Shares of several...|           A|https://www.benzi...|   Benzinga Newsdesk|  NULL|   NULL|       NULL|        NULL|            NULL|           NULL|\n",
      "|2019-03-26 00:00:...|10 Biggest Price ...|           A|https://www.benzi...|          Lisa Levin|  NULL|   NULL|       NULL|        NULL|            NULL|           NULL|\n",
      "|2019-03-26 00:00:...|Cowen & Co. Maint...|           A|https://www.benzi...|          Vick Meyer|  NULL|   NULL|       NULL|        NULL|            NULL|           NULL|\n",
      "|2019-03-15 00:00:...|Benzinga's Top Up...|           A|https://www.benzi...|          Lisa Levin|  NULL|   NULL|       NULL|        NULL|            NULL|           NULL|\n",
      "|2019-03-15 00:00:...|UBS Initiates Cov...|           A|https://www.benzi...|          Vick Meyer|  NULL|   NULL|       NULL|        NULL|            NULL|           NULL|\n",
      "|2019-02-21 00:00:...|Barclays Maintain...|           A|https://www.benzi...|          Vick Meyer|  NULL|   NULL|       NULL|        NULL|            NULL|           NULL|\n",
      "|2019-02-20 00:00:...|UPDATE: Agilent R...|           A|https://www.benzi...|   Benzinga Newsdesk|  NULL|   NULL|       NULL|        NULL|            NULL|           NULL|\n",
      "|2019-02-20 00:00:...|Agilent Sees Q2 A...|           A|https://www.benzi...|   Benzinga Newsdesk|  NULL|   NULL|       NULL|        NULL|            NULL|           NULL|\n",
      "|2019-02-20 00:00:...|Agilent Technolog...|           A|https://www.benzi...|   Benzinga Newsdesk|  NULL|   NULL|       NULL|        NULL|            NULL|           NULL|\n",
      "|2019-02-20 00:00:...|10 Stocks To Watc...|           A|https://www.benzi...|          Lisa Levin|  NULL|   NULL|       NULL|        NULL|            NULL|           NULL|\n",
      "|2019-02-20 00:00:...|Earnings Schedule...|           A|https://www.benzi...|          Lisa Levin|  NULL|   NULL|       NULL|        NULL|            NULL|           NULL|\n",
      "|2019-02-14 00:00:...|JANA 13F Shows Li...|           A|https://www.benzi...|   Benzinga Newsdesk|  NULL|   NULL|       NULL|        NULL|            NULL|           NULL|\n",
      "|2019-02-12 00:00:...|8 Biggest Price T...|           A|https://www.benzi...|          Lisa Levin|  NULL|   NULL|       NULL|        NULL|            NULL|           NULL|\n",
      "|2019-02-12 00:00:...|Deutsche Bank Mai...|           A|https://www.benzi...|          Vick Meyer|  NULL|   NULL|       NULL|        NULL|            NULL|           NULL|\n",
      "|2019-01-29 00:00:...|Agilent Technolog...|           A|https://www.benzi...|       Charles Gross|  NULL|   NULL|       NULL|        NULL|            NULL|           NULL|\n",
      "|2019-01-03 00:00:...|Needham Initiates...|           A|https://www.benzi...|          Vick Meyer|  NULL|   NULL|       NULL|        NULL|            NULL|           NULL|\n",
      "|2018-11-21 00:00:...|50 Biggest Movers...|           A|https://www.benzi...|          Lisa Levin|  NULL|   NULL|       NULL|        NULL|            NULL|           NULL|\n",
      "|2018-11-20 00:00:...|36 Stocks Moving ...|           A|https://www.benzi...|          Lisa Levin|  NULL|   NULL|       NULL|        NULL|            NULL|           NULL|\n",
      "|2018-11-20 00:00:...|Shares of Agilent...|           A|https://www.benzi...|   Benzinga Newsdesk|  NULL|   NULL|       NULL|        NULL|            NULL|           NULL|\n",
      "|2018-11-20 00:00:...|Morgan Stanley Ma...|           A|https://www.benzi...|          Vick Meyer|  NULL|   NULL|       NULL|        NULL|            NULL|           NULL|\n",
      "|2018-11-20 00:00:...|26 Stocks Moving ...|           A|https://www.benzi...|          Lisa Levin|  NULL|   NULL|       NULL|        NULL|            NULL|           NULL|\n",
      "|2018-11-20 00:00:...|10 Stocks To Watc...|           A|https://www.benzi...|          Lisa Levin|  NULL|   NULL|       NULL|        NULL|            NULL|           NULL|\n",
      "|2018-11-19 00:00:...|6 Stocks Moving I...|           A|https://www.benzi...|      Brett Hershman|  NULL|   NULL|       NULL|        NULL|            NULL|           NULL|\n",
      "|2018-11-19 00:00:...|Agilent Sees Q1 A...|           A|https://www.benzi...|   Benzinga Newsdesk|  NULL|   NULL|       NULL|        NULL|            NULL|           NULL|\n",
      "|2018-11-19 00:00:...|Agilent Sees FY19...|           A|https://www.benzi...|   Benzinga Newsdesk|  NULL|   NULL|       NULL|        NULL|            NULL|           NULL|\n",
      "|2018-11-19 00:00:...|Agilent Technolog...|           A|https://www.benzi...|   Benzinga Newsdesk|  NULL|   NULL|       NULL|        NULL|            NULL|           NULL|\n",
      "|2018-11-19 00:00:...|8 Stocks To Watch...|           A|https://www.benzi...|          Lisa Levin|  NULL|   NULL|       NULL|        NULL|            NULL|           NULL|\n",
      "|2018-11-19 00:00:...|Earnings Schedule...|           A|https://www.benzi...|          Lisa Levin|  NULL|   NULL|       NULL|        NULL|            NULL|           NULL|\n",
      "|2018-11-14 00:00:...|13F From JANA Sho...|           A|https://www.benzi...|   Benzinga Newsdesk|  NULL|   NULL|       NULL|        NULL|            NULL|           NULL|\n",
      "|2018-10-29 00:00:...|Agilent Highlight...|           A|https://www.benzi...|   Benzinga Newsdesk|  NULL|   NULL|       NULL|        NULL|            NULL|           NULL|\n",
      "|2018-10-10 00:00:...|Morgan Stanley Ma...|           A|https://www.benzi...|          Vick Meyer|  NULL|   NULL|       NULL|        NULL|            NULL|           NULL|\n",
      "|2018-09-26 00:00:...|A Peek Into The M...|           A|https://www.benzi...|          Lisa Levin|  NULL|   NULL|       NULL|        NULL|            NULL|           NULL|\n",
      "|2018-09-26 00:00:...|Agilent Technolog...|           A|https://www.benzi...|   Benzinga_Newsdesk|  NULL|   NULL|       NULL|        NULL|            NULL|           NULL|\n",
      "|2018-09-26 00:00:...|Agilent to Acquir...|           A|https://www.benzi...|       Charles Gross|  NULL|   NULL|       NULL|        NULL|            NULL|           NULL|\n",
      "|2018-09-17 00:00:...|A Life Science To...|           A|https://www.benzi...|    Shanthi Rexaline|  NULL|   NULL|       NULL|        NULL|            NULL|           NULL|\n",
      "|2018-08-21 00:00:...|Agilent Companion...|           A|https://www.benzi...|   Benzinga_Newsdesk|  NULL|   NULL|       NULL|        NULL|            NULL|           NULL|\n",
      "|2018-08-15 00:00:...|Deutsche Bank Mai...|           A|https://www.benzi...|          Vick Meyer|  NULL|   NULL|       NULL|        NULL|            NULL|           NULL|\n",
      "|2018-08-15 00:00:...|30 Stocks Moving ...|           A|https://www.benzi...|          Lisa Levin|  NULL|   NULL|       NULL|        NULL|            NULL|           NULL|\n",
      "|2018-08-15 00:00:...|Morgan Stanley Ma...|           A|https://www.benzi...|          Vick Meyer|  NULL|   NULL|       NULL|        NULL|            NULL|           NULL|\n",
      "|2018-08-15 00:00:...|A Peek Into The M...|           A|https://www.benzi...|          Lisa Levin|  NULL|   NULL|       NULL|        NULL|            NULL|           NULL|\n",
      "|2018-08-15 00:00:...|10 Stocks To Watc...|           A|https://www.benzi...|          Lisa Levin|  NULL|   NULL|       NULL|        NULL|            NULL|           NULL|\n",
      "|2018-08-14 00:00:...|Agilent Technolog...|           A|https://www.benzi...|   Benzinga Newsdesk|  NULL|   NULL|       NULL|        NULL|            NULL|           NULL|\n",
      "|2018-08-14 00:00:...|13F Filing From T...|           A|https://www.benzi...|   Benzinga Newsdesk|  NULL|   NULL|       NULL|        NULL|            NULL|           NULL|\n",
      "|2018-08-14 00:00:...|Jana Partners 13F...|           A|https://www.benzi...|   Benzinga Newsdesk|  NULL|   NULL|       NULL|        NULL|            NULL|           NULL|\n",
      "|2018-08-14 00:00:...|Agilent Technolog...|           A|https://www.benzi...|   Benzinga Newsdesk|  NULL|   NULL|       NULL|        NULL|            NULL|           NULL|\n",
      "|2018-08-14 00:00:...|Earnings Schedule...|           A|https://www.benzi...|          Lisa Levin|  NULL|   NULL|       NULL|        NULL|            NULL|           NULL|\n",
      "|2018-08-14 00:00:...|10 Stocks To Watc...|           A|https://www.benzi...|          Lisa Levin|  NULL|   NULL|       NULL|        NULL|            NULL|           NULL|\n",
      "|2018-07-31 00:00:...|Agilent Announces...|           A|https://www.benzi...|   Benzinga Newsdesk|  NULL|   NULL|       NULL|        NULL|            NULL|           NULL|\n",
      "|2018-07-17 00:00:...|Waters Has Limite...|           A|https://www.benzi...|    Shanthi Rexaline|  NULL|   NULL|       NULL|        NULL|            NULL|           NULL|\n",
      "|2018-07-09 00:00:...|Agilent, Nanyang ...|           A|https://www.benzi...|    Benzinga Newdesk|  NULL|   NULL|       NULL|        NULL|            NULL|           NULL|\n",
      "|2018-06-12 00:00:...|Agilent Companion...|           A|https://www.benzi...|   Benzinga Newsdesk|  NULL|   NULL|       NULL|        NULL|            NULL|           NULL|\n",
      "|2018-05-30 00:00:...|Agilent to Acquir...|           A|https://www.benzi...|   Benzinga Newsdesk|  NULL|   NULL|       NULL|        NULL|            NULL|           NULL|\n",
      "|2018-05-24 00:00:...|Agilent, Universi...|           A|https://www.benzi...|   Benzinga Newsdesk|  NULL|   NULL|       NULL|        NULL|            NULL|           NULL|\n",
      "|2018-05-23 00:00:...|Agilent Signs Agr...|           A|https://www.benzi...|    Benzinga Newdesk|  NULL|   NULL|       NULL|        NULL|            NULL|           NULL|\n",
      "|2018-05-18 00:00:...|Pot Stocks, ETFs,...|           A|https://www.benzi...|        Javier Hasse|  NULL|   NULL|       NULL|        NULL|            NULL|           NULL|\n",
      "|2018-05-16 00:00:...|45 Biggest Movers...|           A|https://www.benzi...|          Lisa Levin|  NULL|   NULL|       NULL|        NULL|            NULL|           NULL|\n",
      "|2018-05-15 00:00:...|37 Stocks Moving ...|           A|https://www.benzi...|          Lisa Levin|  NULL|   NULL|       NULL|        NULL|            NULL|           NULL|\n",
      "|2018-05-15 00:00:...|Cowen & Co. Upgra...|           A|https://www.benzi...|   Benzinga Newsdesk|  NULL|   NULL|       NULL|        NULL|            NULL|           NULL|\n",
      "|2018-05-15 00:00:...|Traders Circulati...|           A|https://www.benzi...|   Benzinga Newsdesk|  NULL|   NULL|       NULL|        NULL|            NULL|           NULL|\n",
      "+--------------------+--------------------+------------+--------------------+--------------------+------+-------+-----------+------------+----------------+---------------+\n",
      "only showing top 200 rows\n",
      "\n"
     ]
    }
   ],
   "source": [
    "df_csv_5gb.show(200)"
   ]
  },
  {
   "cell_type": "code",
   "execution_count": 27,
   "metadata": {},
   "outputs": [
    {
     "name": "stderr",
     "output_type": "stream",
     "text": [
      "[Stage 22:>                                                         (0 + 1) / 1]\r"
     ]
    },
    {
     "name": "stdout",
     "output_type": "stream",
     "text": [
      "+-------------------+--------------------+------------+--------------------+--------------+----------+--------------------+-----------+------------+----------------+---------------+\n",
      "|               Date|       Article_title|Stock_symbol|                 Url|     Publisher|    Author|             Article|Lsa_summary|Luhn_summary|Textrank_summary|Lexrank_summary|\n",
      "+-------------------+--------------------+------------+--------------------+--------------+----------+--------------------+-----------+------------+----------------+---------------+\n",
      "|1914-09-16 00:00:00|1914. Русские вой...|        NULL|https://lenta.ru/...|Первая мировая|Библиотека|Бои у Сопоцкина и...|       NULL|        NULL|            NULL|           NULL|\n",
      "|1914-09-16 00:00:00|1914. Праздновани...|        NULL|https://lenta.ru/...|Первая мировая|Библиотека|Министерство наро...|       NULL|        NULL|            NULL|           NULL|\n",
      "|1914-09-17 00:00:00|1914. Das ist Nes...|        NULL|https://lenta.ru/...|Первая мировая|Библиотека|Штабс-капитан П. ...|       NULL|        NULL|            NULL|           NULL|\n",
      "|1914-09-17 00:00:00|1914. Бульдог-гон...|        NULL|https://lenta.ru/...|Первая мировая|Библиотека|Фотограф-корреспо...|       NULL|        NULL|            NULL|           NULL|\n",
      "|1914-09-18 00:00:00|1914. Под Люблино...|        NULL|https://lenta.ru/...|Первая мировая|Библиотека|Лица, приехавшие ...|       NULL|        NULL|            NULL|           NULL|\n",
      "|1969-12-31 01:00:00|Montpelier Re Hol...|         MRH|http://www.zacks....|         Zacks|      NULL|                NULL|       NULL|        NULL|            NULL|           NULL|\n",
      "|1999-08-31 02:00:00|Космонавты сомнев...|        NULL|https://lenta.ru/...|           Все|    Россия|Как стало известн...|       NULL|        NULL|            NULL|           NULL|\n",
      "|1999-08-31 02:00:00|Взрыв в центре Мо...|        NULL|https://lenta.ru/...|           Все|    Россия|В зале игровых ав...|       NULL|        NULL|            NULL|           NULL|\n",
      "|1999-08-31 02:00:00|Япония кредитует ...|        NULL|https://lenta.ru/...|           Все|    Россия|Япония приняла ре...|       NULL|        NULL|            NULL|           NULL|\n",
      "|1999-08-31 02:00:00|Британцы отмечают...|        NULL|https://lenta.ru/...|           Все|       Мир|Британцы отмечают...|       NULL|        NULL|            NULL|           NULL|\n",
      "|1999-08-31 02:00:00|Отмытые через Ban...|        NULL|https://lenta.ru/...|           Все|    Россия|В понедельник дир...|       NULL|        NULL|            NULL|           NULL|\n",
      "|1999-08-31 02:00:00|C 1 сентября ввод...|        NULL|https://lenta.ru/...|           Все|    Россия|С 1 сентября на в...|       NULL|        NULL|            NULL|           NULL|\n",
      "|1999-08-31 02:00:00|Создан департамен...|        NULL|https://lenta.ru/...|           Все|    Россия|Указом президента...|       NULL|        NULL|            NULL|           NULL|\n",
      "|1999-08-31 02:00:00|Южно-Сахалинск об...|        NULL|https://lenta.ru/...|           Все|    Россия|Сегодня областной...|       NULL|        NULL|            NULL|           NULL|\n",
      "|1999-08-31 02:00:00|Леворадикалы созд...|        NULL|https://lenta.ru/...|           Все|    Россия|Бывший шеф Службы...|       NULL|        NULL|            NULL|           NULL|\n",
      "|1999-08-31 02:00:00|Еще одно землетря...|        NULL|https://lenta.ru/...|           Все|       Мир|подземный толчок ...|       NULL|        NULL|            NULL|           NULL|\n",
      "|1999-08-31 02:00:00|В горах Дагестана...|        NULL|https://lenta.ru/...|           Все|    Россия|Сегодня утром в р...|       NULL|        NULL|            NULL|           NULL|\n",
      "|1999-08-31 02:00:00|Карачаево-Черкеси...|        NULL|https://lenta.ru/...|           Все|    Россия|Намеченная на сег...|       NULL|        NULL|            NULL|           NULL|\n",
      "|1999-08-31 02:00:00|Коржаков готов ра...|        NULL|https://lenta.ru/...|           Все|    Россия|На состоявшейся с...|       NULL|        NULL|            NULL|           NULL|\n",
      "|1999-08-31 02:00:00|Российские национ...|        NULL|https://lenta.ru/...|           Все|       Мир|15 представителей...|       NULL|        NULL|            NULL|           NULL|\n",
      "|1999-08-31 02:00:00|Киргизия ведет бо...|        NULL|https://lenta.ru/...|           Все|       Мир|На юге Киргизии, ...|       NULL|        NULL|            NULL|           NULL|\n",
      "|1999-08-31 02:00:00|Литва засудила уч...|        NULL|https://lenta.ru/...|           Все|       Мир|Россия крайне нег...|       NULL|        NULL|            NULL|           NULL|\n",
      "|1999-08-31 02:00:00|Референдум по воп...|        NULL|https://lenta.ru/...|           Все|       Мир|По сведениям мисс...|       NULL|        NULL|            NULL|           NULL|\n",
      "|1999-09-01 02:00:00|США заплатили Кит...|        NULL|https://lenta.ru/...|           Все|       Мир|Соединенные Штаты...|       NULL|        NULL|            NULL|           NULL|\n",
      "|1999-09-01 02:00:00|Илюхин и Исаков о...|        NULL|https://lenta.ru/...|           Все|    Россия|\"Женщины России\" ...|       NULL|        NULL|            NULL|           NULL|\n",
      "|1999-09-01 02:00:00|Паколли: Дель Пон...|        NULL|https://lenta.ru/...|           Все|       Мир|Скандал по поводу...|       NULL|        NULL|            NULL|           NULL|\n",
      "|1999-09-01 02:00:00|ФБР готовится к к...|        NULL|https://lenta.ru/...|           Все|       Мир|Хотя до 2000 года...|       NULL|        NULL|            NULL|           NULL|\n",
      "|1999-09-01 02:00:00|В \"Bank of New Yo...|        NULL|https://lenta.ru/...|           Все|       Мир|Следствие по делу...|       NULL|        NULL|            NULL|           NULL|\n",
      "|1999-09-01 02:00:00|Федеральные силы ...|        NULL|https://lenta.ru/...|           Все|    Россия|Касаясь на сегодн...|       NULL|        NULL|            NULL|           NULL|\n",
      "|1999-09-01 02:00:00|В Киргизии освобо...|        NULL|https://lenta.ru/...|           Все|       Мир|Трое заложников о...|       NULL|        NULL|            NULL|           NULL|\n",
      "|1999-09-01 02:00:00|На ММВБ произошел...|        NULL|https://lenta.ru/...|           Все|    Россия|В среду 1 сентябр...|       NULL|        NULL|            NULL|           NULL|\n",
      "|1999-09-01 02:00:00|Американские миро...|        NULL|https://lenta.ru/...|           Все|       Мир|МИД РФ в распрост...|       NULL|        NULL|            NULL|           NULL|\n",
      "|1999-09-01 02:00:00|На ММВБ перестану...|        NULL|https://lenta.ru/...|           Все|    Россия|Московская межбан...|       NULL|        NULL|            NULL|           NULL|\n",
      "|1999-09-01 02:00:00|Швейцарец создал ...|        NULL|https://lenta.ru/...|           Все|       Мир|Бывший швейцарски...|       NULL|        NULL|            NULL|           NULL|\n",
      "|1999-09-01 02:00:00|В центре Буэнос-А...|        NULL|https://lenta.ru/...|           Все|       Мир|Сегодня, примерно...|       NULL|        NULL|            NULL|           NULL|\n",
      "|1999-09-01 02:00:00|США хотят сделать...|        NULL|https://lenta.ru/...|           Все|    Россия|США  выступают пр...|       NULL|        NULL|            NULL|           NULL|\n",
      "|1999-09-01 02:00:00|Минюст готовится ...|        NULL|https://lenta.ru/...|           Все|    Россия|Министр юстиции  ...|       NULL|        NULL|            NULL|           NULL|\n",
      "|1999-09-01 02:00:00|Убит абхазский та...|        NULL|https://lenta.ru/...|           Все|       Мир|Одинсотрудник абх...|       NULL|        NULL|            NULL|           NULL|\n",
      "|1999-09-01 02:00:00|Компания Apple вы...|        NULL|https://lenta.ru/...|           Все|       Мир|Компания Apple об...|       NULL|        NULL|            NULL|           NULL|\n",
      "|1999-09-01 02:00:00|Взрыв на Манежной...|        NULL|https://lenta.ru/...|           Все|    Россия|Всего в результат...|       NULL|        NULL|            NULL|           NULL|\n",
      "|1999-09-01 02:00:00|\"Окружение презид...|        NULL|https://lenta.ru/...|           Все|    Россия|Бывший генеральны...|       NULL|        NULL|            NULL|           NULL|\n",
      "|1999-09-01 02:00:00|Восточный Тимор п...|        NULL|https://lenta.ru/...|           Все|       Мир|Вооруженные отряд...|       NULL|        NULL|            NULL|           NULL|\n",
      "|1999-09-02 02:00:00|Колокола, похищен...|        NULL|https://lenta.ru/...|           Все|       Мир|Три похищенных из...|       NULL|        NULL|            NULL|           NULL|\n",
      "|1999-09-02 02:00:00|Курс доллара выро...|        NULL|https://lenta.ru/...|           Все|    Россия|Курс доллара на е...|       NULL|        NULL|            NULL|           NULL|\n",
      "|1999-09-02 02:00:00|Боевики вытеснены...|        NULL|https://lenta.ru/...|           Все|    Россия|Село Карамахи, од...|       NULL|        NULL|            NULL|           NULL|\n",
      "|1999-09-02 02:00:00|На Павелецком вок...|        NULL|https://lenta.ru/...|           Все|    Россия|Не успели утихнут...|       NULL|        NULL|            NULL|           NULL|\n",
      "|1999-09-02 02:00:00|В Чечне отключили...|        NULL|https://lenta.ru/...|           Все|    Россия|Со среды в Чечне ...|       NULL|        NULL|            NULL|           NULL|\n",
      "|1999-09-02 02:00:00|CША не будут блок...|        NULL|https://lenta.ru/...|           Все|    Россия|Агентство ИТАР-ТА...|       NULL|        NULL|            NULL|           NULL|\n",
      "|1999-09-02 02:00:00|Авиакатастрофа в ...|        NULL|https://lenta.ru/...|           Все|       Мир|Десять американск...|       NULL|        NULL|            NULL|           NULL|\n",
      "|1999-09-02 02:00:00|КНДР переносит св...|        NULL|https://lenta.ru/...|           Все|       Мир|В переданном ИТАР...|       NULL|        NULL|            NULL|           NULL|\n",
      "|1999-09-02 02:00:00|Минпечати запрети...|        NULL|https://lenta.ru/...|           Все|    Россия|С 0 часов 2 сентя...|       NULL|        NULL|            NULL|           NULL|\n",
      "|1999-09-02 02:00:00|Курдская рабочая ...|        NULL|https://lenta.ru/...|           Все|       Мир|Брат приговоренно...|       NULL|        NULL|            NULL|           NULL|\n",
      "|1999-09-02 02:00:00|В Баткенском райо...|        NULL|https://lenta.ru/...|           Все|       Мир|По сведениям ИТАР...|       NULL|        NULL|            NULL|           NULL|\n",
      "|1999-09-02 02:00:00|Ценные приборы с ...|        NULL|https://lenta.ru/...|           Все|    Россия|Демонтаж и достав...|       NULL|        NULL|            NULL|           NULL|\n",
      "|1999-09-02 02:00:00|Возле еврейской ш...|        NULL|https://lenta.ru/...|           Все|    Россия|Как передало аген...|       NULL|        NULL|            NULL|           NULL|\n",
      "|1999-09-02 02:00:00|ФБР виновно в гиб...|        NULL|https://lenta.ru/...|           Все|       Мир|Вчера в США с нов...|       NULL|        NULL|            NULL|           NULL|\n",
      "|1999-09-02 02:00:00|В Москве повышают...|        NULL|https://lenta.ru/...|           Все|    Россия|Сообщение агентст...|       NULL|        NULL|            NULL|           NULL|\n",
      "|1999-09-02 02:00:00|Ущерб от взрыва н...|        NULL|https://lenta.ru/...|           Все|    Россия|Директор ФСБ Нико...|       NULL|        NULL|            NULL|           NULL|\n",
      "|1999-09-02 02:00:00|Глобальное таяние...|        NULL|https://lenta.ru/...|           Все|       Мир|Глобальное потепл...|       NULL|        NULL|            NULL|           NULL|\n",
      "|1999-09-03 02:00:00|Экипажи двух росс...|        NULL|https://lenta.ru/...|           Все|       Мир|Экипажи двух росс...|       NULL|        NULL|            NULL|           NULL|\n",
      "+-------------------+--------------------+------------+--------------------+--------------+----------+--------------------+-----------+------------+----------------+---------------+\n",
      "only showing top 60 rows\n",
      "\n"
     ]
    },
    {
     "name": "stderr",
     "output_type": "stream",
     "text": [
      "                                                                                \r"
     ]
    }
   ],
   "source": [
    "df_csv_5gb.sort(asc(\"Date\")).show(60)"
   ]
  },
  {
   "cell_type": "code",
   "execution_count": 31,
   "metadata": {},
   "outputs": [],
   "source": [
    "df_5gb = df_csv_5gb.withColumn(\n",
    "    \"Date_parsed\", to_timestamp(col(\"Date\"), \"yyyy-MM-dd HH:mm:ss\")\n",
    ")"
   ]
  },
  {
   "cell_type": "code",
   "execution_count": 33,
   "metadata": {},
   "outputs": [
    {
     "name": "stdout",
     "output_type": "stream",
     "text": [
      "root\n",
      " |-- Date: timestamp (nullable = true)\n",
      " |-- Article_title: string (nullable = true)\n",
      " |-- Stock_symbol: string (nullable = true)\n",
      " |-- Url: string (nullable = true)\n",
      " |-- Publisher: string (nullable = true)\n",
      " |-- Author: string (nullable = true)\n",
      " |-- Article: string (nullable = true)\n",
      " |-- Lsa_summary: string (nullable = true)\n",
      " |-- Luhn_summary: string (nullable = true)\n",
      " |-- Textrank_summary: string (nullable = true)\n",
      " |-- Lexrank_summary: string (nullable = true)\n",
      " |-- Date_parsed: timestamp (nullable = true)\n",
      "\n"
     ]
    }
   ],
   "source": [
    "df_5gb.printSchema()"
   ]
  },
  {
   "cell_type": "code",
   "execution_count": 36,
   "metadata": {},
   "outputs": [
    {
     "name": "stderr",
     "output_type": "stream",
     "text": [
      "[Stage 27:>                                                         (0 + 1) / 1]\r"
     ]
    },
    {
     "name": "stdout",
     "output_type": "stream",
     "text": [
      "+-------------------+-------------------+\n",
      "|           min_date|           max_date|\n",
      "+-------------------+-------------------+\n",
      "|1914-09-16 00:00:00|2020-06-11 15:12:35|\n",
      "+-------------------+-------------------+\n",
      "\n"
     ]
    },
    {
     "name": "stderr",
     "output_type": "stream",
     "text": [
      "                                                                                \r"
     ]
    }
   ],
   "source": [
    "df_5gb.select(min(\"Date\").alias(\"min_date\"), max(\"Date\").alias(\"max_date\")).show()"
   ]
  },
  {
   "cell_type": "code",
   "execution_count": 37,
   "metadata": {},
   "outputs": [
    {
     "name": "stderr",
     "output_type": "stream",
     "text": [
      "[Stage 30:>                                                         (0 + 1) / 1]\r"
     ]
    },
    {
     "name": "stdout",
     "output_type": "stream",
     "text": [
      "+------------+------------+\n",
      "|Stock_symbol|ticker_count|\n",
      "+------------+------------+\n",
      "|        NULL|     9804627|\n",
      "|           A|        2369|\n",
      "|          AA|        2953|\n",
      "|         AAC|         379|\n",
      "|        AADR|          32|\n",
      "|         AAL|         494|\n",
      "|        AAMC|         132|\n",
      "|        AAME|          87|\n",
      "|         AAN|        1309|\n",
      "|        AAOI|         452|\n",
      "|        AAON|         326|\n",
      "|         AAP|        2214|\n",
      "|        AAPL|         473|\n",
      "|         AAU|          85|\n",
      "|         AAV|         127|\n",
      "|        AAVL|         191|\n",
      "|        AAWW|         322|\n",
      "|        AAXJ|          76|\n",
      "|          AB|        1065|\n",
      "|        ABAC|          72|\n",
      "|        ABAX|         100|\n",
      "|         ABB|        1433|\n",
      "|        ABBV|         753|\n",
      "|         ABC|         722|\n",
      "|        ABCB|          20|\n",
      "|        ABCD|         130|\n",
      "|        ABCO|         408|\n",
      "|        ABCW|          37|\n",
      "|        ABDC|         116|\n",
      "|        ABEV|         309|\n",
      "|         ABG|         323|\n",
      "|        ABGB|         204|\n",
      "|        ABIO|         100|\n",
      "|         ABM|         139|\n",
      "|        ABMD|         239|\n",
      "|         ABR|         771|\n",
      "|        ABTL|         386|\n",
      "|         ABX|        2867|\n",
      "|         ABY|         238|\n",
      "|        ACAD|         985|\n",
      "|        ACAS|         569|\n",
      "|        ACAT|         471|\n",
      "|         ACC|         667|\n",
      "|        ACCO|         576|\n",
      "|        ACCU|          15|\n",
      "|         ACE|         925|\n",
      "|        ACET|         372|\n",
      "|        ACFC|          81|\n",
      "|        ACFN|         132|\n",
      "|         ACG|          55|\n",
      "+------------+------------+\n",
      "only showing top 50 rows\n",
      "\n"
     ]
    },
    {
     "name": "stderr",
     "output_type": "stream",
     "text": [
      "                                                                                \r"
     ]
    }
   ],
   "source": [
    "df_5gb.groupBy(\"Stock_symbol\").agg(count(\"*\").alias(\"ticker_count\")) \\\n",
    "       .orderBy(\"Stock_symbol\", ascending=True) \\\n",
    "       .show(50)  # Show top 50 tickers"
   ]
  },
  {
   "cell_type": "code",
   "execution_count": 39,
   "metadata": {},
   "outputs": [
    {
     "name": "stderr",
     "output_type": "stream",
     "text": [
      "[Stage 33:>                                                         (0 + 1) / 1]\r"
     ]
    },
    {
     "name": "stdout",
     "output_type": "stream",
     "text": [
      "+-------------------+-----+\n",
      "|              month|count|\n",
      "+-------------------+-----+\n",
      "|1914-09-01 00:00:00|    5|\n",
      "|1969-12-01 00:00:00|    1|\n",
      "|1999-08-01 00:00:00|   17|\n",
      "|1999-09-01 00:00:00|  580|\n",
      "|1999-10-01 00:00:00|  726|\n",
      "|1999-11-01 00:00:00|  853|\n",
      "|1999-12-01 00:00:00|  905|\n",
      "|2000-01-01 00:00:00|  682|\n",
      "|2000-02-01 00:00:00| 1004|\n",
      "|2000-03-01 00:00:00| 1226|\n",
      "|2000-04-01 00:00:00| 1202|\n",
      "|2000-05-01 00:00:00| 1166|\n",
      "|2000-06-01 00:00:00| 1283|\n",
      "|2000-07-01 00:00:00| 1277|\n",
      "|2000-08-01 00:00:00| 1336|\n",
      "|2000-09-01 00:00:00| 1590|\n",
      "|2000-10-01 00:00:00| 1781|\n",
      "|2000-11-01 00:00:00| 1835|\n",
      "|2000-12-01 00:00:00| 1794|\n",
      "|2001-01-01 00:00:00| 1676|\n",
      "+-------------------+-----+\n",
      "only showing top 20 rows\n",
      "\n"
     ]
    },
    {
     "name": "stderr",
     "output_type": "stream",
     "text": [
      "                                                                                \r"
     ]
    }
   ],
   "source": [
    "df_5gb.groupby(date_trunc(\"month\", \"date\").alias(\"month\")) \\\n",
    "       .count() \\\n",
    "       .orderBy(\"month\") \\\n",
    "       .show()"
   ]
  },
  {
   "cell_type": "code",
   "execution_count": 48,
   "metadata": {},
   "outputs": [
    {
     "name": "stdout",
     "output_type": "stream",
     "text": [
      "+-------------------+--------------------+------------+--------------------+--------------------+------+-------+-----------+------------+----------------+---------------+-------------------+\n",
      "|               Date|       Article_title|Stock_symbol|                 Url|           Publisher|Author|Article|Lsa_summary|Luhn_summary|Textrank_summary|Lexrank_summary|        Date_parsed|\n",
      "+-------------------+--------------------+------------+--------------------+--------------------+------+-------+-----------+------------+----------------+---------------+-------------------+\n",
      "|2020-06-05 08:30:54|Stocks That Hit 5...|           A|https://www.benzi...|   Benzinga Insights|  NULL|   NULL|       NULL|        NULL|            NULL|           NULL|2020-06-05 08:30:54|\n",
      "|2020-06-03 08:45:20|Stocks That Hit 5...|           A|https://www.benzi...|   Benzinga Insights|  NULL|   NULL|       NULL|        NULL|            NULL|           NULL|2020-06-03 08:45:20|\n",
      "|2020-05-26 02:30:07|71 Biggest Movers...|           A|https://www.benzi...|          Lisa Levin|  NULL|   NULL|       NULL|        NULL|            NULL|           NULL|2020-05-26 02:30:07|\n",
      "|2020-05-22 10:45:06|46 Stocks Moving ...|           A|https://www.benzi...|          Lisa Levin|  NULL|   NULL|       NULL|        NULL|            NULL|           NULL|2020-05-22 10:45:06|\n",
      "|2020-05-22 09:38:59|B of A Securities...|           A|https://www.benzi...|          Vick Meyer|  NULL|   NULL|       NULL|        NULL|            NULL|           NULL|2020-05-22 09:38:59|\n",
      "|2020-05-22 09:23:25|CFRA Maintains Ho...|           A|https://www.benzi...|vishwanath@benzin...|  NULL|   NULL|       NULL|        NULL|            NULL|           NULL|2020-05-22 09:23:25|\n",
      "|2020-05-22 07:36:20|UBS Maintains Neu...|           A|https://www.benzi...|vishwanath@benzin...|  NULL|   NULL|       NULL|        NULL|            NULL|           NULL|2020-05-22 07:36:20|\n",
      "|2020-05-22 07:07:04|Agilent Technolog...|           A|https://www.benzi...|   Benzinga Newsdesk|  NULL|   NULL|       NULL|        NULL|            NULL|           NULL|2020-05-22 07:07:04|\n",
      "|2020-05-22 06:37:59|Wells Fargo Maint...|           A|https://www.benzi...|vishwanath@benzin...|  NULL|   NULL|       NULL|        NULL|            NULL|           NULL|2020-05-22 06:37:59|\n",
      "|2020-05-22 06:06:17|10 Biggest Price ...|           A|https://www.benzi...|          Lisa Levin|  NULL|   NULL|       NULL|        NULL|            NULL|           NULL|2020-05-22 06:06:17|\n",
      "+-------------------+--------------------+------------+--------------------+--------------------+------+-------+-----------+------------+----------------+---------------+-------------------+\n",
      "only showing top 10 rows\n",
      "\n"
     ]
    },
    {
     "name": "stderr",
     "output_type": "stream",
     "text": [
      "                                                                                \r"
     ]
    },
    {
     "name": "stderr",
     "output_type": "stream",
     "text": [
      "[Stage 36:>   (0 + 1) / 1][Stage 37:>   (0 + 1) / 1][Stage 38:>   (0 + 1) / 1]\r"
     ]
    }
   ],
   "source": [
    "df_5gb.show(10)"
   ]
  },
  {
   "cell_type": "code",
   "execution_count": 50,
   "metadata": {},
   "outputs": [],
   "source": [
    "def detect_lang(text):\n",
    "    try:\n",
    "        return langdetect.detect(text)\n",
    "    except:\n",
    "        return \"unknown\"\n",
    "\n",
    "detect_lang_udf = udf(detect_lang, StringType())\n",
    "\n",
    "df_lang = df_5gb.withColumn(\"detected_lang\", detect_lang_udf(df_5gb[\"Article_title\"]))\n",
    "\n",
    "df_english_only = df_lang.filter(df_lang[\"detected_lang\"] == \"en\")"
   ]
  },
  {
   "cell_type": "code",
   "execution_count": 53,
   "metadata": {},
   "outputs": [
    {
     "data": {
      "text/plain": [
       "DataFrame[Date: timestamp, Article_title: string, Stock_symbol: string, Url: string, Publisher: string, Author: string, Article: string, Lsa_summary: string, Luhn_summary: string, Textrank_summary: string, Lexrank_summary: string, Date_parsed: timestamp, detected_lang: string]"
      ]
     },
     "execution_count": 53,
     "metadata": {},
     "output_type": "execute_result"
    },
    {
     "name": "stderr",
     "output_type": "stream",
     "text": [
      "[Stage 36:>   (0 + 1) / 1][Stage 37:>   (0 + 1) / 1][Stage 42:>   (0 + 1) / 1]\r"
     ]
    }
   ],
   "source": [
    "df_english_only.cache()"
   ]
  },
  {
   "cell_type": "code",
   "execution_count": 51,
   "metadata": {},
   "outputs": [
    {
     "name": "stderr",
     "output_type": "stream",
     "text": [
      "[Stage 36:>   (0 + 1) / 1][Stage 37:>   (0 + 1) / 1][Stage 41:>   (0 + 1) / 1]\r"
     ]
    },
    {
     "name": "stdout",
     "output_type": "stream",
     "text": [
      "+-------------------+--------------------+------------+--------------------+--------------------+------+-------+-----------+------------+----------------+---------------+-------------------+-------------+\n",
      "|               Date|       Article_title|Stock_symbol|                 Url|           Publisher|Author|Article|Lsa_summary|Luhn_summary|Textrank_summary|Lexrank_summary|        Date_parsed|detected_lang|\n",
      "+-------------------+--------------------+------------+--------------------+--------------------+------+-------+-----------+------------+----------------+---------------+-------------------+-------------+\n",
      "|2020-06-05 08:30:54|Stocks That Hit 5...|           A|https://www.benzi...|   Benzinga Insights|  NULL|   NULL|       NULL|        NULL|            NULL|           NULL|2020-06-05 08:30:54|           en|\n",
      "|2020-06-03 08:45:20|Stocks That Hit 5...|           A|https://www.benzi...|   Benzinga Insights|  NULL|   NULL|       NULL|        NULL|            NULL|           NULL|2020-06-03 08:45:20|           en|\n",
      "|2020-05-22 10:45:06|46 Stocks Moving ...|           A|https://www.benzi...|          Lisa Levin|  NULL|   NULL|       NULL|        NULL|            NULL|           NULL|2020-05-22 10:45:06|           en|\n",
      "|2020-05-22 09:38:59|B of A Securities...|           A|https://www.benzi...|          Vick Meyer|  NULL|   NULL|       NULL|        NULL|            NULL|           NULL|2020-05-22 09:38:59|           en|\n",
      "|2020-05-22 09:23:25|CFRA Maintains Ho...|           A|https://www.benzi...|vishwanath@benzin...|  NULL|   NULL|       NULL|        NULL|            NULL|           NULL|2020-05-22 09:23:25|           en|\n",
      "|2020-05-22 07:36:20|UBS Maintains Neu...|           A|https://www.benzi...|vishwanath@benzin...|  NULL|   NULL|       NULL|        NULL|            NULL|           NULL|2020-05-22 07:36:20|           fr|\n",
      "|2020-05-22 07:07:04|Agilent Technolog...|           A|https://www.benzi...|   Benzinga Newsdesk|  NULL|   NULL|       NULL|        NULL|            NULL|           NULL|2020-05-22 07:07:04|           en|\n",
      "|2020-05-22 06:37:59|Wells Fargo Maint...|           A|https://www.benzi...|vishwanath@benzin...|  NULL|   NULL|       NULL|        NULL|            NULL|           NULL|2020-05-22 06:37:59|           en|\n",
      "|2020-05-22 02:00:00|30 Stocks Moving ...|           A|https://www.benzi...|          Lisa Levin|  NULL|   NULL|       NULL|        NULL|            NULL|           NULL|2020-05-22 02:00:00|           en|\n",
      "|2020-05-22 02:00:00|SVB Leerink Maint...|           A|https://www.benzi...|vishwanath@benzin...|  NULL|   NULL|       NULL|        NULL|            NULL|           NULL|2020-05-22 02:00:00|           en|\n",
      "+-------------------+--------------------+------------+--------------------+--------------------+------+-------+-----------+------------+----------------+---------------+-------------------+-------------+\n",
      "only showing top 10 rows\n",
      "\n"
     ]
    },
    {
     "name": "stderr",
     "output_type": "stream",
     "text": [
      "25/03/21 11:50:32 WARN PythonUDFRunner: Detected deadlock while completing task 0.0 in stage 41 (TID 502): Attempting to kill Python Worker\n",
      "                                                                                \r"
     ]
    },
    {
     "name": "stderr",
     "output_type": "stream",
     "text": [
      "[Stage 36:>                 (0 + 1) / 1][Stage 37:>                 (0 + 1) / 1]\r"
     ]
    }
   ],
   "source": [
    "df_english_only.show(10)"
   ]
  }
 ],
 "metadata": {
  "kernelspec": {
   "display_name": "bigdatavenv",
   "language": "python",
   "name": "python3"
  },
  "language_info": {
   "codemirror_mode": {
    "name": "ipython",
    "version": 3
   },
   "file_extension": ".py",
   "mimetype": "text/x-python",
   "name": "python",
   "nbconvert_exporter": "python",
   "pygments_lexer": "ipython3",
   "version": "3.12.3"
  }
 },
 "nbformat": 4,
 "nbformat_minor": 2
}
