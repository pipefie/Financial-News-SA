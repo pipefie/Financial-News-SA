{
 "cells": [
  {
   "cell_type": "markdown",
   "metadata": {},
   "source": [
    "**Jupyter notebook for test of any type**"
   ]
  },
  {
   "cell_type": "code",
   "execution_count": 1,
   "metadata": {},
   "outputs": [
    {
     "name": "stdout",
     "output_type": "stream",
     "text": [
      "['/home/pipe/BigData/project/Financial-News-SA/notebooks', '/usr/lib/python312.zip', '/usr/lib/python3.12', '/usr/lib/python3.12/lib-dynload', '', '/home/pipe/venv/BigDataVenv/lib/python3.12/site-packages', '/home/pipe/BigData/project/Financial-News-SA/src']\n"
     ]
    }
   ],
   "source": [
    "import sys\n",
    "import os\n",
    "\n",
    "# Get the absolute path of the project root\n",
    "project_root = os.path.abspath(\"..\")  # Adjust if necessary\n",
    "\n",
    "# Add the src directory to Python's path\n",
    "sys.path.append(os.path.join(project_root, \"src\"))\n",
    "\n",
    "print(sys.path)"
   ]
  },
  {
   "cell_type": "code",
   "execution_count": 6,
   "metadata": {},
   "outputs": [],
   "source": [
    "import sys\n",
    "import os\n",
    "\n",
    "# Replace with the absolute path to your project root directory\n",
    "project_root = os.path.abspath(\"..\")  \n",
    "\n",
    "if project_root not in sys.path:\n",
    "    sys.path.append(project_root)\n"
   ]
  },
  {
   "cell_type": "code",
   "execution_count": 7,
   "metadata": {},
   "outputs": [],
   "source": [
    "import pandas as pd\n",
    "from datasets import load_dataset\n",
    "import os\n",
    "import numpy as np\n",
    "import pyspark as ps\n",
    "from data import cloud_storage_utils as drive"
   ]
  },
  {
   "cell_type": "code",
   "execution_count": 7,
   "metadata": {},
   "outputs": [],
   "source": [
    "df = pd.read_csv(\"hf://datasets/Shadow-Blade/financialNews/financialNews.csv\")"
   ]
  },
  {
   "cell_type": "code",
   "execution_count": null,
   "metadata": {},
   "outputs": [],
   "source": [
    "os.makedirs('../data/raw/', exist_ok=True) \n",
    "df.to_csv('../data/raw/financialNews_shadow.csv')"
   ]
  },
  {
   "cell_type": "code",
   "execution_count": 8,
   "metadata": {},
   "outputs": [
    {
     "data": {
      "text/plain": [
       "{'datetime': 'Fri 24 Nov 2023, 12:00AM',\n",
       " 'title': 'OpenAI turmoil exposes threat to Microsoft’s investment',\n",
       " 'description': 'Microsoft chief executive Satya Nadella’s decision to throw his company’s lot in with OpenAI in 2019 has turned into one of the tech industry’s most successful partnerships, giving the software company a huge head-start in the booming market for generative artificial intelligence. For Microsoft, OpenAI’s language models have become a key ingredient in the company’s latest AI-infused services, while the AI company needs Microsoft’s cloud platform — and money — to support its giant AI models.',\n",
       " 'ticker': 'MSFT',\n",
       " 'company': 'Microsoft Corporation',\n",
       " 'sector': 'Technology',\n",
       " 'industry': 'Software—Infrastructure',\n",
       " 'change_pct': -0.5001626505810034}"
      ]
     },
     "execution_count": 8,
     "metadata": {},
     "output_type": "execute_result"
    }
   ],
   "source": [
    "ds[0]"
   ]
  },
  {
   "cell_type": "code",
   "execution_count": 11,
   "metadata": {},
   "outputs": [
    {
     "data": {
      "text/plain": [
       "pandas.core.frame.DataFrame"
      ]
     },
     "execution_count": 11,
     "metadata": {},
     "output_type": "execute_result"
    }
   ],
   "source": [
    "type(ds)\n",
    "type(df)"
   ]
  },
  {
   "cell_type": "code",
   "execution_count": 3,
   "metadata": {},
   "outputs": [
    {
     "ename": "TypeError",
     "evalue": "GoogleAuth.LoadClientConfigSettings() takes 1 positional argument but 2 were given",
     "output_type": "error",
     "traceback": [
      "\u001b[0;31m---------------------------------------------------------------------------\u001b[0m",
      "\u001b[0;31mTypeError\u001b[0m                                 Traceback (most recent call last)",
      "Cell \u001b[0;32mIn[3], line 1\u001b[0m\n\u001b[0;32m----> 1\u001b[0m file_id \u001b[38;5;241m=\u001b[39m \u001b[43mget_file_id_by_title\u001b[49m\u001b[43m(\u001b[49m\u001b[38;5;124;43m\"\u001b[39;49m\u001b[38;5;124;43mfinancialNews_zihan\u001b[39;49m\u001b[38;5;124;43m\"\u001b[39;49m\u001b[43m)\u001b[49m\n\u001b[1;32m      3\u001b[0m csv_zihan_data \u001b[38;5;241m=\u001b[39m load_csv_from_drive(file_id\u001b[38;5;241m=\u001b[39mfile_id)\n",
      "File \u001b[0;32m~/bigData/Financial-News-SA/src/data/cloud_storage_utils.py:119\u001b[0m, in \u001b[0;36mget_file_id_by_title\u001b[0;34m(file_title, folder_id)\u001b[0m\n\u001b[1;32m    118\u001b[0m \u001b[38;5;28;01mdef\u001b[39;00m\u001b[38;5;250m \u001b[39m\u001b[38;5;21mget_file_id_by_title\u001b[39m(file_title, folder_id\u001b[38;5;241m=\u001b[39m\u001b[38;5;28;01mNone\u001b[39;00m):\n\u001b[0;32m--> 119\u001b[0m     drive \u001b[38;5;241m=\u001b[39m \u001b[43mauthenticate_drive\u001b[49m\u001b[43m(\u001b[49m\u001b[43m)\u001b[49m\n\u001b[1;32m    120\u001b[0m     \u001b[38;5;28;01mif\u001b[39;00m \u001b[38;5;129;01mnot\u001b[39;00m drive:\n\u001b[1;32m    121\u001b[0m         \u001b[38;5;28;01mreturn\u001b[39;00m \u001b[38;5;28;01mNone\u001b[39;00m\n",
      "File \u001b[0;32m~/bigData/Financial-News-SA/src/data/cloud_storage_utils.py:40\u001b[0m, in \u001b[0;36mauthenticate_drive\u001b[0;34m()\u001b[0m\n\u001b[1;32m     26\u001b[0m gauth_settings \u001b[38;5;241m=\u001b[39m {\n\u001b[1;32m     27\u001b[0m     \u001b[38;5;124m\"\u001b[39m\u001b[38;5;124mclient_config_backend\u001b[39m\u001b[38;5;124m\"\u001b[39m: \u001b[38;5;124m\"\u001b[39m\u001b[38;5;124msettings\u001b[39m\u001b[38;5;124m\"\u001b[39m,\n\u001b[1;32m     28\u001b[0m     \u001b[38;5;124m\"\u001b[39m\u001b[38;5;124mclient_config_settings\u001b[39m\u001b[38;5;124m\"\u001b[39m: {\n\u001b[0;32m   (...)\u001b[0m\n\u001b[1;32m     36\u001b[0m     \u001b[38;5;124m\"\u001b[39m\u001b[38;5;124moauth_scope\u001b[39m\u001b[38;5;124m\"\u001b[39m: [\u001b[38;5;124m\"\u001b[39m\u001b[38;5;124mhttps://www.googleapis.com/auth/drive\u001b[39m\u001b[38;5;124m\"\u001b[39m],\n\u001b[1;32m     37\u001b[0m }\n\u001b[1;32m     39\u001b[0m \u001b[38;5;66;03m# Apply settings to PyDrive\u001b[39;00m\n\u001b[0;32m---> 40\u001b[0m \u001b[43mgauth\u001b[49m\u001b[38;5;241;43m.\u001b[39;49m\u001b[43mLoadClientConfigSettings\u001b[49m\u001b[43m(\u001b[49m\u001b[43mgauth_settings\u001b[49m\u001b[43m)\u001b[49m\n\u001b[1;32m     42\u001b[0m \u001b[38;5;28;01mtry\u001b[39;00m:\n\u001b[1;32m     43\u001b[0m     gauth\u001b[38;5;241m.\u001b[39mLocalWebserverAuth()  \u001b[38;5;66;03m# Authenticate user via browser\u001b[39;00m\n",
      "\u001b[0;31mTypeError\u001b[0m: GoogleAuth.LoadClientConfigSettings() takes 1 positional argument but 2 were given"
     ]
    }
   ],
   "source": [
    "file_id = get_file_id_by_title(\"financialNews_zihan\")\n",
    "\n",
    "csv_zihan_data = load_csv_from_drive(file_id=file_id)"
   ]
  }
 ],
 "metadata": {
  "kernelspec": {
   "display_name": "bigDatavenv",
   "language": "python",
   "name": "python3"
  },
  "language_info": {
   "codemirror_mode": {
    "name": "ipython",
    "version": 3
   },
   "file_extension": ".py",
   "mimetype": "text/x-python",
   "name": "python",
   "nbconvert_exporter": "python",
   "pygments_lexer": "ipython3",
   "version": "3.12.3"
  }
 },
 "nbformat": 4,
 "nbformat_minor": 2
}
